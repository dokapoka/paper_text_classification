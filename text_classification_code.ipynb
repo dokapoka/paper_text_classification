{
 "cells": [
  {
   "cell_type": "markdown",
   "metadata": {},
   "source": [
    "Баданина Наталья ПМ17-1\n",
    "\n",
    "Тема: Классификация текстов методами машинного обучения.\n",
    "\n",
    "Данные: https://www.kaggle.com/yutkin/corpus-of-russian-news-articles-from-lenta"
   ]
  },
  {
   "cell_type": "markdown",
   "metadata": {},
   "source": [
    "**Подключение библиотек**"
   ]
  },
  {
   "cell_type": "code",
   "execution_count": 1,
   "metadata": {},
   "outputs": [],
   "source": [
    "import pandas as pd\n",
    "import numpy as np\n",
    "\n",
    "import matplotlib.pyplot as plt\n",
    "import seaborn as sns\n",
    "%matplotlib inline\n",
    "\n",
    "import re\n",
    "import nltk\n",
    "from pymorphy2 import MorphAnalyzer\n",
    "#nltk.download('stopwords')\n",
    "from nltk.corpus import stopwords\n",
    "\n",
    "from warnings import filterwarnings\n",
    "filterwarnings('ignore')"
   ]
  },
  {
   "cell_type": "markdown",
   "metadata": {},
   "source": [
    "**Загрузка датасета**\n",
    "\n",
    "Данные - корпус новостей с сайта lenta.ru"
   ]
  },
  {
   "cell_type": "code",
   "execution_count": 41,
   "metadata": {},
   "outputs": [],
   "source": [
    "news = pd.read_csv('lenta-ru-news.csv')"
   ]
  },
  {
   "cell_type": "code",
   "execution_count": 62,
   "metadata": {},
   "outputs": [
    {
     "data": {
      "text/html": [
       "<div>\n",
       "<style scoped>\n",
       "    .dataframe tbody tr th:only-of-type {\n",
       "        vertical-align: middle;\n",
       "    }\n",
       "\n",
       "    .dataframe tbody tr th {\n",
       "        vertical-align: top;\n",
       "    }\n",
       "\n",
       "    .dataframe thead th {\n",
       "        text-align: right;\n",
       "    }\n",
       "</style>\n",
       "<table border=\"1\" class=\"dataframe\">\n",
       "  <thead>\n",
       "    <tr style=\"text-align: right;\">\n",
       "      <th></th>\n",
       "      <th>url</th>\n",
       "      <th>title</th>\n",
       "      <th>text</th>\n",
       "      <th>topic</th>\n",
       "      <th>tags</th>\n",
       "      <th>date</th>\n",
       "    </tr>\n",
       "  </thead>\n",
       "  <tbody>\n",
       "    <tr>\n",
       "      <td>0</td>\n",
       "      <td>https://lenta.ru/news/1914/09/16/hungarnn/</td>\n",
       "      <td>1914. Русские войска вступили в пределы Венгрии</td>\n",
       "      <td>Бои у Сопоцкина и Друскеник закончились отступ...</td>\n",
       "      <td>Библиотека</td>\n",
       "      <td>Первая мировая</td>\n",
       "      <td>1914/09/16</td>\n",
       "    </tr>\n",
       "    <tr>\n",
       "      <td>1</td>\n",
       "      <td>https://lenta.ru/news/1914/09/16/lermontov/</td>\n",
       "      <td>1914. Празднование столетия М.Ю. Лермонтова от...</td>\n",
       "      <td>Министерство народного просвещения, в виду про...</td>\n",
       "      <td>Библиотека</td>\n",
       "      <td>Первая мировая</td>\n",
       "      <td>1914/09/16</td>\n",
       "    </tr>\n",
       "    <tr>\n",
       "      <td>2</td>\n",
       "      <td>https://lenta.ru/news/1914/09/17/nesteroff/</td>\n",
       "      <td>1914. Das ist Nesteroff!</td>\n",
       "      <td>Штабс-капитан П. Н. Нестеров на днях, увидев в...</td>\n",
       "      <td>Библиотека</td>\n",
       "      <td>Первая мировая</td>\n",
       "      <td>1914/09/17</td>\n",
       "    </tr>\n",
       "    <tr>\n",
       "      <td>3</td>\n",
       "      <td>https://lenta.ru/news/1914/09/17/bulldogn/</td>\n",
       "      <td>1914. Бульдог-гонец под Льежем</td>\n",
       "      <td>Фотограф-корреспондент Daily Mirror рассказыва...</td>\n",
       "      <td>Библиотека</td>\n",
       "      <td>Первая мировая</td>\n",
       "      <td>1914/09/17</td>\n",
       "    </tr>\n",
       "    <tr>\n",
       "      <td>4</td>\n",
       "      <td>https://lenta.ru/news/1914/09/18/zver/</td>\n",
       "      <td>1914. Под Люблином пойман швабский зверь</td>\n",
       "      <td>Лица, приехавшие в Варшаву из Люблина, передаю...</td>\n",
       "      <td>Библиотека</td>\n",
       "      <td>Первая мировая</td>\n",
       "      <td>1914/09/18</td>\n",
       "    </tr>\n",
       "    <tr>\n",
       "      <td>...</td>\n",
       "      <td>...</td>\n",
       "      <td>...</td>\n",
       "      <td>...</td>\n",
       "      <td>...</td>\n",
       "      <td>...</td>\n",
       "      <td>...</td>\n",
       "    </tr>\n",
       "    <tr>\n",
       "      <td>800970</td>\n",
       "      <td>https://lenta.ru/news/2019/12/14/shnur/</td>\n",
       "      <td>Шнуров раскритиковал Гагарину на «Голосе»</td>\n",
       "      <td>Певец Сергей Шнуров раскритиковал свою коллегу...</td>\n",
       "      <td>NaN</td>\n",
       "      <td>ТВ и радио</td>\n",
       "      <td>2019/12/14</td>\n",
       "    </tr>\n",
       "    <tr>\n",
       "      <td>800971</td>\n",
       "      <td>https://lenta.ru/news/2019/12/14/dolg/</td>\n",
       "      <td>В России предложили изменить правила взыскания...</td>\n",
       "      <td>Министерство юстиции России предложило изменит...</td>\n",
       "      <td>NaN</td>\n",
       "      <td>Все</td>\n",
       "      <td>2019/12/14</td>\n",
       "    </tr>\n",
       "    <tr>\n",
       "      <td>800972</td>\n",
       "      <td>https://lenta.ru/news/2019/12/14/dark_euro/</td>\n",
       "      <td>В России назвали «черную дату» для Европы</td>\n",
       "      <td>Испытание США ранее запрещенной Договором о ли...</td>\n",
       "      <td>NaN</td>\n",
       "      <td>Политика</td>\n",
       "      <td>2019/12/14</td>\n",
       "    </tr>\n",
       "    <tr>\n",
       "      <td>800973</td>\n",
       "      <td>https://lenta.ru/news/2019/12/14/meteo/</td>\n",
       "      <td>Россиянам пообещали аномально теплую погоду</td>\n",
       "      <td>В ближайшие дни в европейской части России пог...</td>\n",
       "      <td>NaN</td>\n",
       "      <td>Общество</td>\n",
       "      <td>2019/12/14</td>\n",
       "    </tr>\n",
       "    <tr>\n",
       "      <td>800974</td>\n",
       "      <td>https://lenta.ru/news/2019/12/14/olimp/</td>\n",
       "      <td>В конкурсе прогнозов на АПЛ разыграют 100 тыся...</td>\n",
       "      <td>Ведущие футбольные чемпионаты ушли на зимние к...</td>\n",
       "      <td>NaN</td>\n",
       "      <td>Английский футбол</td>\n",
       "      <td>2019/12/14</td>\n",
       "    </tr>\n",
       "  </tbody>\n",
       "</table>\n",
       "<p>800975 rows × 6 columns</p>\n",
       "</div>"
      ],
      "text/plain": [
       "                                                url  \\\n",
       "0        https://lenta.ru/news/1914/09/16/hungarnn/   \n",
       "1       https://lenta.ru/news/1914/09/16/lermontov/   \n",
       "2       https://lenta.ru/news/1914/09/17/nesteroff/   \n",
       "3        https://lenta.ru/news/1914/09/17/bulldogn/   \n",
       "4            https://lenta.ru/news/1914/09/18/zver/   \n",
       "...                                             ...   \n",
       "800970      https://lenta.ru/news/2019/12/14/shnur/   \n",
       "800971       https://lenta.ru/news/2019/12/14/dolg/   \n",
       "800972  https://lenta.ru/news/2019/12/14/dark_euro/   \n",
       "800973      https://lenta.ru/news/2019/12/14/meteo/   \n",
       "800974      https://lenta.ru/news/2019/12/14/olimp/   \n",
       "\n",
       "                                                    title  \\\n",
       "0       1914. Русские войска вступили в пределы Венгрии     \n",
       "1       1914. Празднование столетия М.Ю. Лермонтова от...   \n",
       "2                                1914. Das ist Nesteroff!   \n",
       "3                         1914. Бульдог-гонец под Льежем    \n",
       "4                1914. Под Люблином пойман швабский зверь   \n",
       "...                                                   ...   \n",
       "800970          Шнуров раскритиковал Гагарину на «Голосе»   \n",
       "800971  В России предложили изменить правила взыскания...   \n",
       "800972          В России назвали «черную дату» для Европы   \n",
       "800973        Россиянам пообещали аномально теплую погоду   \n",
       "800974  В конкурсе прогнозов на АПЛ разыграют 100 тыся...   \n",
       "\n",
       "                                                     text       topic  \\\n",
       "0       Бои у Сопоцкина и Друскеник закончились отступ...  Библиотека   \n",
       "1       Министерство народного просвещения, в виду про...  Библиотека   \n",
       "2       Штабс-капитан П. Н. Нестеров на днях, увидев в...  Библиотека   \n",
       "3       Фотограф-корреспондент Daily Mirror рассказыва...  Библиотека   \n",
       "4       Лица, приехавшие в Варшаву из Люблина, передаю...  Библиотека   \n",
       "...                                                   ...         ...   \n",
       "800970  Певец Сергей Шнуров раскритиковал свою коллегу...         NaN   \n",
       "800971  Министерство юстиции России предложило изменит...         NaN   \n",
       "800972  Испытание США ранее запрещенной Договором о ли...         NaN   \n",
       "800973  В ближайшие дни в европейской части России пог...         NaN   \n",
       "800974  Ведущие футбольные чемпионаты ушли на зимние к...         NaN   \n",
       "\n",
       "                     tags        date  \n",
       "0          Первая мировая  1914/09/16  \n",
       "1          Первая мировая  1914/09/16  \n",
       "2          Первая мировая  1914/09/17  \n",
       "3          Первая мировая  1914/09/17  \n",
       "4          Первая мировая  1914/09/18  \n",
       "...                   ...         ...  \n",
       "800970         ТВ и радио  2019/12/14  \n",
       "800971                Все  2019/12/14  \n",
       "800972           Политика  2019/12/14  \n",
       "800973           Общество  2019/12/14  \n",
       "800974  Английский футбол  2019/12/14  \n",
       "\n",
       "[800975 rows x 6 columns]"
      ]
     },
     "execution_count": 62,
     "metadata": {},
     "output_type": "execute_result"
    }
   ],
   "source": [
    "news"
   ]
  },
  {
   "cell_type": "code",
   "execution_count": 64,
   "metadata": {},
   "outputs": [
    {
     "data": {
      "text/plain": [
       "('1914/09/16', '2019/12/14')"
      ]
     },
     "execution_count": 64,
     "metadata": {},
     "output_type": "execute_result"
    }
   ],
   "source": [
    "min(news.date), max(news.date)"
   ]
  },
  {
   "cell_type": "code",
   "execution_count": 66,
   "metadata": {},
   "outputs": [
    {
     "data": {
      "text/html": [
       "<div>\n",
       "<style scoped>\n",
       "    .dataframe tbody tr th:only-of-type {\n",
       "        vertical-align: middle;\n",
       "    }\n",
       "\n",
       "    .dataframe tbody tr th {\n",
       "        vertical-align: top;\n",
       "    }\n",
       "\n",
       "    .dataframe thead th {\n",
       "        text-align: right;\n",
       "    }\n",
       "</style>\n",
       "<table border=\"1\" class=\"dataframe\">\n",
       "  <thead>\n",
       "    <tr style=\"text-align: right;\">\n",
       "      <th></th>\n",
       "      <th>url</th>\n",
       "      <th>title</th>\n",
       "      <th>text</th>\n",
       "      <th>topic</th>\n",
       "      <th>tags</th>\n",
       "      <th>date</th>\n",
       "    </tr>\n",
       "  </thead>\n",
       "  <tbody>\n",
       "    <tr>\n",
       "      <td>700000</td>\n",
       "      <td>https://lenta.ru/news/2018/01/26/ukranianpewds/</td>\n",
       "      <td>Популярный блогер перебрался в украинский инте...</td>\n",
       "      <td>Один из самых высокооплачиваемых YouTube-блоге...</td>\n",
       "      <td>Интернет и СМИ</td>\n",
       "      <td>Coцсети</td>\n",
       "      <td>2018/01/26</td>\n",
       "    </tr>\n",
       "    <tr>\n",
       "      <td>700001</td>\n",
       "      <td>https://lenta.ru/news/2018/01/26/samolet/</td>\n",
       "      <td>Российский Су-34 перехватили над Балтикой</td>\n",
       "      <td>Истребители F-16 ВВС Дании, базирующиеся на ли...</td>\n",
       "      <td>Мир</td>\n",
       "      <td>Общество</td>\n",
       "      <td>2018/01/26</td>\n",
       "    </tr>\n",
       "    <tr>\n",
       "      <td>700002</td>\n",
       "      <td>https://lenta.ru/news/2018/01/26/zolotoyorel/</td>\n",
       "      <td>Назван лучший российский фильм года</td>\n",
       "      <td>Лента Клима Шипенко «Салют 7» удостоена премии...</td>\n",
       "      <td>Культура</td>\n",
       "      <td>Кино</td>\n",
       "      <td>2018/01/26</td>\n",
       "    </tr>\n",
       "    <tr>\n",
       "      <td>700003</td>\n",
       "      <td>https://lenta.ru/news/2018/01/26/what/</td>\n",
       "      <td>Российскую экономику назвали перспективнее аме...</td>\n",
       "      <td>Министр экономического развития Максим Орешкин...</td>\n",
       "      <td>Экономика</td>\n",
       "      <td>Госэкономика</td>\n",
       "      <td>2018/01/26</td>\n",
       "    </tr>\n",
       "    <tr>\n",
       "      <td>700004</td>\n",
       "      <td>https://lenta.ru/news/2018/01/26/perepiska/</td>\n",
       "      <td>В Германии рассказали о перехвате зашифрованны...</td>\n",
       "      <td>Федеральное ведомство по уголовным делам при М...</td>\n",
       "      <td>Интернет и СМИ</td>\n",
       "      <td>Киберпреступность</td>\n",
       "      <td>2018/01/26</td>\n",
       "    </tr>\n",
       "    <tr>\n",
       "      <td>700005</td>\n",
       "      <td>https://lenta.ru/news/2018/01/26/stillalive/</td>\n",
       "      <td>«Россия 24» по ошибке похоронила украинского п...</td>\n",
       "      <td>Телеканал «Россия 24» в эфире программы «Вести...</td>\n",
       "      <td>Интернет и СМИ</td>\n",
       "      <td>Пресса</td>\n",
       "      <td>2018/01/26</td>\n",
       "    </tr>\n",
       "    <tr>\n",
       "      <td>700006</td>\n",
       "      <td>https://lenta.ru/news/2018/01/26/radar/</td>\n",
       "      <td>В Великобритании нашли способ защитить страны ...</td>\n",
       "      <td>Начальник штаба Королевских военно-воздушных с...</td>\n",
       "      <td>Мир</td>\n",
       "      <td>Политика</td>\n",
       "      <td>2018/01/26</td>\n",
       "    </tr>\n",
       "    <tr>\n",
       "      <td>700007</td>\n",
       "      <td>https://lenta.ru/news/2018/01/26/semedo/</td>\n",
       "      <td>Футболист заявился в бордель с пистолетом и по...</td>\n",
       "      <td>Защитник испанского «Вильярреала» Рубен Семеду...</td>\n",
       "      <td>Спорт</td>\n",
       "      <td>Футбол</td>\n",
       "      <td>2018/01/26</td>\n",
       "    </tr>\n",
       "    <tr>\n",
       "      <td>700008</td>\n",
       "      <td>https://lenta.ru/news/2018/01/26/reyting/</td>\n",
       "      <td>Определено место Украины в рейтинге свободы че...</td>\n",
       "      <td>Украина заняла 132-е место из 159 и последнее ...</td>\n",
       "      <td>Бывший СССР</td>\n",
       "      <td>Украина</td>\n",
       "      <td>2018/01/26</td>\n",
       "    </tr>\n",
       "    <tr>\n",
       "      <td>700009</td>\n",
       "      <td>https://lenta.ru/news/2018/01/26/peregovori/</td>\n",
       "      <td>Стали известны подробности переговоров между С...</td>\n",
       "      <td>Помощник президента России Владислав Сурков и ...</td>\n",
       "      <td>Бывший СССР</td>\n",
       "      <td>Украина</td>\n",
       "      <td>2018/01/26</td>\n",
       "    </tr>\n",
       "  </tbody>\n",
       "</table>\n",
       "</div>"
      ],
      "text/plain": [
       "                                                    url  \\\n",
       "700000  https://lenta.ru/news/2018/01/26/ukranianpewds/   \n",
       "700001        https://lenta.ru/news/2018/01/26/samolet/   \n",
       "700002    https://lenta.ru/news/2018/01/26/zolotoyorel/   \n",
       "700003           https://lenta.ru/news/2018/01/26/what/   \n",
       "700004      https://lenta.ru/news/2018/01/26/perepiska/   \n",
       "700005     https://lenta.ru/news/2018/01/26/stillalive/   \n",
       "700006          https://lenta.ru/news/2018/01/26/radar/   \n",
       "700007         https://lenta.ru/news/2018/01/26/semedo/   \n",
       "700008        https://lenta.ru/news/2018/01/26/reyting/   \n",
       "700009     https://lenta.ru/news/2018/01/26/peregovori/   \n",
       "\n",
       "                                                    title  \\\n",
       "700000  Популярный блогер перебрался в украинский инте...   \n",
       "700001          Российский Су-34 перехватили над Балтикой   \n",
       "700002                Назван лучший российский фильм года   \n",
       "700003  Российскую экономику назвали перспективнее аме...   \n",
       "700004  В Германии рассказали о перехвате зашифрованны...   \n",
       "700005  «Россия 24» по ошибке похоронила украинского п...   \n",
       "700006  В Великобритании нашли способ защитить страны ...   \n",
       "700007  Футболист заявился в бордель с пистолетом и по...   \n",
       "700008  Определено место Украины в рейтинге свободы че...   \n",
       "700009  Стали известны подробности переговоров между С...   \n",
       "\n",
       "                                                     text           topic  \\\n",
       "700000  Один из самых высокооплачиваемых YouTube-блоге...  Интернет и СМИ   \n",
       "700001  Истребители F-16 ВВС Дании, базирующиеся на ли...             Мир   \n",
       "700002  Лента Клима Шипенко «Салют 7» удостоена премии...        Культура   \n",
       "700003  Министр экономического развития Максим Орешкин...       Экономика   \n",
       "700004  Федеральное ведомство по уголовным делам при М...  Интернет и СМИ   \n",
       "700005  Телеканал «Россия 24» в эфире программы «Вести...  Интернет и СМИ   \n",
       "700006  Начальник штаба Королевских военно-воздушных с...             Мир   \n",
       "700007  Защитник испанского «Вильярреала» Рубен Семеду...           Спорт   \n",
       "700008  Украина заняла 132-е место из 159 и последнее ...     Бывший СССР   \n",
       "700009  Помощник президента России Владислав Сурков и ...     Бывший СССР   \n",
       "\n",
       "                     tags        date  \n",
       "700000            Coцсети  2018/01/26  \n",
       "700001           Общество  2018/01/26  \n",
       "700002               Кино  2018/01/26  \n",
       "700003       Госэкономика  2018/01/26  \n",
       "700004  Киберпреступность  2018/01/26  \n",
       "700005             Пресса  2018/01/26  \n",
       "700006           Политика  2018/01/26  \n",
       "700007             Футбол  2018/01/26  \n",
       "700008            Украина  2018/01/26  \n",
       "700009            Украина  2018/01/26  "
      ]
     },
     "execution_count": 66,
     "metadata": {},
     "output_type": "execute_result"
    }
   ],
   "source": [
    "start = 700000\n",
    "stop = start + 10\n",
    "news.iloc[start:stop]"
   ]
  },
  {
   "cell_type": "markdown",
   "metadata": {},
   "source": [
    "**Анализ данных**\n",
    "\n",
    "Целевой переменной для классификации могут выступать ```topic```, ```tags```. Заметим, что значений ```tags``` больше и они конкретнее, чем значения ```topic```. Целевой переменной для первичной модели можно взять ```tags```, исключив ```topic``` из модели. В дальнейшем можно подумать что сделать с исключенной колонкой."
   ]
  },
  {
   "cell_type": "code",
   "execution_count": 200,
   "metadata": {},
   "outputs": [
    {
     "data": {
      "text/plain": [
       "array(['Первая мировая', 'Все', nan, 'Прибалтика', 'Кино', 'Преступность',\n",
       "       'Общество', 'Происшествия', 'Искусство', 'Бизнес', 'Техника',\n",
       "       'ТВ и радио', 'Политика', 'Пресса', 'Музыка', 'Люди', 'Звери',\n",
       "       'Игры', 'Госэкономика', 'Гаджеты', 'Наука', 'Еда', 'Рынки',\n",
       "       'Деньги', 'Летние виды', 'Интернет', 'Театр', 'Конфликты',\n",
       "       'Реклама', 'Космос', 'Бокс и ММА', 'Футбол', 'Книги',\n",
       "       'Зимние виды', 'Достижения', 'Coцсети', 'Вещи', 'События',\n",
       "       'Средняя Азия', 'Украина', 'Закавказье', 'Белоруссия', 'Молдавия',\n",
       "       'Софт', 'Квартира', 'Город', 'Дача', 'Офис', 'Оружие', 'Мнения',\n",
       "       'Москва', 'Регионы', 'Полиция и спецслужбы', 'Криминал',\n",
       "       'Следствие и суд', 'Движение', 'Производители', 'Мировой бизнес',\n",
       "       'Финансы компаний', 'Деловой климат', 'Мир', 'Россия', 'Часы',\n",
       "       'Явления', 'Стиль', 'Инструменты', 'Вооружение', 'Вкусы',\n",
       "       'Страноведение', 'Госрегулирование', 'История', 'Внешний вид',\n",
       "       'Автобизнес', 'Аналитика рынка', 'Туризм', 'Выборы', 'Экология',\n",
       "       'Мемы', 'Мировой опыт', 'Инновации', 'Хоккей', 'Вирусные ролики',\n",
       "       'Фотография', 'Авто', 'Наследие', 'Преступная Россия', 'Жизнь',\n",
       "       'Киберпреступность', 'Социальная сфера', 'Казахстан',\n",
       "       '69-я параллель', 'Экономика', 'Культура', 'Нацпроекты',\n",
       "       'Английский футбол'], dtype=object)"
      ]
     },
     "execution_count": 200,
     "metadata": {},
     "output_type": "execute_result"
    }
   ],
   "source": [
    "news.tags.unique()"
   ]
  },
  {
   "cell_type": "code",
   "execution_count": 73,
   "metadata": {},
   "outputs": [
    {
     "data": {
      "text/plain": [
       "array(['Библиотека', 'Россия', 'Мир', 'Экономика', 'Интернет и СМИ',\n",
       "       'Спорт', 'Культура', 'Из жизни', 'Силовые структуры',\n",
       "       'Наука и техника', 'Бывший СССР', nan, 'Дом', 'Сочи', 'ЧМ-2014',\n",
       "       'Путешествия', 'Ценности', 'Легпром', 'Бизнес', 'МедНовости',\n",
       "       'Оружие', '69-я параллель', 'Культпросвет ', 'Крым'], dtype=object)"
      ]
     },
     "execution_count": 73,
     "metadata": {},
     "output_type": "execute_result"
    }
   ],
   "source": [
    "news.topic.unique()"
   ]
  },
  {
   "cell_type": "code",
   "execution_count": 100,
   "metadata": {},
   "outputs": [
    {
     "data": {
      "image/png": "[encoded data removed]",
      "text/plain": [
       "<Figure size 864x576 with 1 Axes>"
      ]
     },
     "metadata": {
      "needs_background": "light"
     },
     "output_type": "display_data"
    }
   ],
   "source": [
    "topic_count = news.topic.groupby(news.topic).count().sort_values()\n",
    "\n",
    "plt.figure(figsize=(12, 8))\n",
    "colors = ['#999999']*(len(topic_count)-1)+['#66CCCC']\n",
    "plt.barh(topic_count.index, topic_count, color=colors)\n",
    "plt.title('Распределение количества новостей с разными тематиками')\n",
    "plt.xlabel('Количество новостей по теме')\n",
    "plt.ylabel('Название темы новости')\n",
    "plt.xlim(0, max(topic_count)+1000)\n",
    "plt.ylim(0, len(topic_count))\n",
    "plt.show()"
   ]
  },
  {
   "cell_type": "code",
   "execution_count": 113,
   "metadata": {},
   "outputs": [
    {
     "data": {
      "image/png": "[encoded data removed]",
      "text/plain": [
       "<Figure size 864x576 with 1 Axes>"
      ]
     },
     "metadata": {
      "needs_background": "light"
     },
     "output_type": "display_data"
    }
   ],
   "source": [
    "tags_count = news.tags.groupby(news.tags).count().sort_values() #ascending=False\n",
    "tags_count = tags_count[(len(tags_count)-20):]\n",
    "\n",
    "plt.figure(figsize=(12, 8))\n",
    "colors = ['#999999']*(len(tags_count)-1)+['#66CCCC']\n",
    "plt.barh(tags_count.index, tags_count, color=colors)\n",
    "plt.title('Топ 20 тегов по количеству новостей')\n",
    "plt.xlabel('Количество новостей по тегу')\n",
    "plt.ylabel('Название тега')\n",
    "plt.xlim(0, max(tags_count)+1000)\n",
    "plt.ylim(0, len(tags_count))\n",
    "plt.show()"
   ]
  },
  {
   "cell_type": "markdown",
   "metadata": {},
   "source": [
    "Из последнего графика видно, что больше всего новостей с тегом ```Все```. Новости с этим тегом нужно исключить из датасета, так как под этим тегом собрана случайная информация, которая будет увеличивать ошибку модели."
   ]
  },
  {
   "cell_type": "code",
   "execution_count": 9,
   "metadata": {},
   "outputs": [
    {
     "data": {
      "text/html": [
       "<div>\n",
       "<style scoped>\n",
       "    .dataframe tbody tr th:only-of-type {\n",
       "        vertical-align: middle;\n",
       "    }\n",
       "\n",
       "    .dataframe tbody tr th {\n",
       "        vertical-align: top;\n",
       "    }\n",
       "\n",
       "    .dataframe thead th {\n",
       "        text-align: right;\n",
       "    }\n",
       "</style>\n",
       "<table border=\"1\" class=\"dataframe\">\n",
       "  <thead>\n",
       "    <tr style=\"text-align: right;\">\n",
       "      <th></th>\n",
       "      <th>url</th>\n",
       "      <th>title</th>\n",
       "      <th>text</th>\n",
       "      <th>topic</th>\n",
       "      <th>tags</th>\n",
       "      <th>date</th>\n",
       "    </tr>\n",
       "  </thead>\n",
       "  <tbody>\n",
       "    <tr>\n",
       "      <td>5</td>\n",
       "      <td>https://lenta.ru/news/1999/08/31/stancia_mir/</td>\n",
       "      <td>Космонавты сомневаются в надежности \"Мира\"</td>\n",
       "      <td>Как стало известно агентству Ассошиэйтед Пресс...</td>\n",
       "      <td>Россия</td>\n",
       "      <td>Все</td>\n",
       "      <td>1999/08/31</td>\n",
       "    </tr>\n",
       "    <tr>\n",
       "      <td>6</td>\n",
       "      <td>https://lenta.ru/news/1999/08/31/vzriv/</td>\n",
       "      <td>Взрыв в центре Москвы: пострадало 30 человек</td>\n",
       "      <td>В зале игровых автоматов в третьем ярусе подзе...</td>\n",
       "      <td>Россия</td>\n",
       "      <td>Все</td>\n",
       "      <td>1999/08/31</td>\n",
       "    </tr>\n",
       "    <tr>\n",
       "      <td>7</td>\n",
       "      <td>https://lenta.ru/news/1999/08/31/credit_japs/</td>\n",
       "      <td>Япония кредитует Россию на полтора миллиарда д...</td>\n",
       "      <td>Япония приняла решение разморозить кредиты Рос...</td>\n",
       "      <td>Россия</td>\n",
       "      <td>Все</td>\n",
       "      <td>1999/08/31</td>\n",
       "    </tr>\n",
       "    <tr>\n",
       "      <td>8</td>\n",
       "      <td>https://lenta.ru/news/1999/08/31/diana/</td>\n",
       "      <td>Британцы отмечают двухлетие смерти Дианы</td>\n",
       "      <td>Британцы отмечают сегодня скорбную дату - втор...</td>\n",
       "      <td>Мир</td>\n",
       "      <td>Все</td>\n",
       "      <td>1999/08/31</td>\n",
       "    </tr>\n",
       "    <tr>\n",
       "      <td>9</td>\n",
       "      <td>https://lenta.ru/news/1999/08/31/mvf/</td>\n",
       "      <td>Отмытые через Bank of NY деньги не имели отнош...</td>\n",
       "      <td>В понедельник директор департамента внешних св...</td>\n",
       "      <td>Россия</td>\n",
       "      <td>Все</td>\n",
       "      <td>1999/08/31</td>\n",
       "    </tr>\n",
       "    <tr>\n",
       "      <td>...</td>\n",
       "      <td>...</td>\n",
       "      <td>...</td>\n",
       "      <td>...</td>\n",
       "      <td>...</td>\n",
       "      <td>...</td>\n",
       "      <td>...</td>\n",
       "    </tr>\n",
       "    <tr>\n",
       "      <td>800459</td>\n",
       "      <td>https://lenta.ru/news/2019/12/12/podarunok/</td>\n",
       "      <td>Названы самые популярные подарки на Новый год</td>\n",
       "      <td>Конфеты, шоколад, косметика и парфюмерия стали...</td>\n",
       "      <td>NaN</td>\n",
       "      <td>Все</td>\n",
       "      <td>2019/12/12</td>\n",
       "    </tr>\n",
       "    <tr>\n",
       "      <td>800767</td>\n",
       "      <td>https://lenta.ru/news/2019/12/13/contract/</td>\n",
       "      <td>Раскрыты подробности нового контракта России и...</td>\n",
       "      <td>Источник в оборонной промышленности Турции рас...</td>\n",
       "      <td>NaN</td>\n",
       "      <td>Все</td>\n",
       "      <td>2019/12/13</td>\n",
       "    </tr>\n",
       "    <tr>\n",
       "      <td>800768</td>\n",
       "      <td>https://lenta.ru/news/2019/12/13/win/</td>\n",
       "      <td>Победители конкурса «Цифровой прорыв» получили...</td>\n",
       "      <td>Победители конкурса «Цифровой прорыв» — флагма...</td>\n",
       "      <td>NaN</td>\n",
       "      <td>Все</td>\n",
       "      <td>2019/12/13</td>\n",
       "    </tr>\n",
       "    <tr>\n",
       "      <td>800969</td>\n",
       "      <td>https://lenta.ru/news/2019/12/14/wada/</td>\n",
       "      <td>В WADA подтвердили право России на проведение ...</td>\n",
       "      <td>Всемирное антидопинговое агентство (WADA) подт...</td>\n",
       "      <td>NaN</td>\n",
       "      <td>Все</td>\n",
       "      <td>2019/12/14</td>\n",
       "    </tr>\n",
       "    <tr>\n",
       "      <td>800971</td>\n",
       "      <td>https://lenta.ru/news/2019/12/14/dolg/</td>\n",
       "      <td>В России предложили изменить правила взыскания...</td>\n",
       "      <td>Министерство юстиции России предложило изменит...</td>\n",
       "      <td>NaN</td>\n",
       "      <td>Все</td>\n",
       "      <td>2019/12/14</td>\n",
       "    </tr>\n",
       "  </tbody>\n",
       "</table>\n",
       "<p>453762 rows × 6 columns</p>\n",
       "</div>"
      ],
      "text/plain": [
       "                                                  url  \\\n",
       "5       https://lenta.ru/news/1999/08/31/stancia_mir/   \n",
       "6             https://lenta.ru/news/1999/08/31/vzriv/   \n",
       "7       https://lenta.ru/news/1999/08/31/credit_japs/   \n",
       "8             https://lenta.ru/news/1999/08/31/diana/   \n",
       "9               https://lenta.ru/news/1999/08/31/mvf/   \n",
       "...                                               ...   \n",
       "800459    https://lenta.ru/news/2019/12/12/podarunok/   \n",
       "800767     https://lenta.ru/news/2019/12/13/contract/   \n",
       "800768          https://lenta.ru/news/2019/12/13/win/   \n",
       "800969         https://lenta.ru/news/2019/12/14/wada/   \n",
       "800971         https://lenta.ru/news/2019/12/14/dolg/   \n",
       "\n",
       "                                                    title  \\\n",
       "5              Космонавты сомневаются в надежности \"Мира\"   \n",
       "6            Взрыв в центре Москвы: пострадало 30 человек   \n",
       "7       Япония кредитует Россию на полтора миллиарда д...   \n",
       "8                Британцы отмечают двухлетие смерти Дианы   \n",
       "9       Отмытые через Bank of NY деньги не имели отнош...   \n",
       "...                                                   ...   \n",
       "800459      Названы самые популярные подарки на Новый год   \n",
       "800767  Раскрыты подробности нового контракта России и...   \n",
       "800768  Победители конкурса «Цифровой прорыв» получили...   \n",
       "800969  В WADA подтвердили право России на проведение ...   \n",
       "800971  В России предложили изменить правила взыскания...   \n",
       "\n",
       "                                                     text   topic tags  \\\n",
       "5       Как стало известно агентству Ассошиэйтед Пресс...  Россия  Все   \n",
       "6       В зале игровых автоматов в третьем ярусе подзе...  Россия  Все   \n",
       "7       Япония приняла решение разморозить кредиты Рос...  Россия  Все   \n",
       "8       Британцы отмечают сегодня скорбную дату - втор...     Мир  Все   \n",
       "9       В понедельник директор департамента внешних св...  Россия  Все   \n",
       "...                                                   ...     ...  ...   \n",
       "800459  Конфеты, шоколад, косметика и парфюмерия стали...     NaN  Все   \n",
       "800767  Источник в оборонной промышленности Турции рас...     NaN  Все   \n",
       "800768  Победители конкурса «Цифровой прорыв» — флагма...     NaN  Все   \n",
       "800969  Всемирное антидопинговое агентство (WADA) подт...     NaN  Все   \n",
       "800971  Министерство юстиции России предложило изменит...     NaN  Все   \n",
       "\n",
       "              date  \n",
       "5       1999/08/31  \n",
       "6       1999/08/31  \n",
       "7       1999/08/31  \n",
       "8       1999/08/31  \n",
       "9       1999/08/31  \n",
       "...            ...  \n",
       "800459  2019/12/12  \n",
       "800767  2019/12/13  \n",
       "800768  2019/12/13  \n",
       "800969  2019/12/14  \n",
       "800971  2019/12/14  \n",
       "\n",
       "[453762 rows x 6 columns]"
      ]
     },
     "execution_count": 9,
     "metadata": {},
     "output_type": "execute_result"
    }
   ],
   "source": [
    "news[news.tags=='Все']"
   ]
  },
  {
   "cell_type": "markdown",
   "metadata": {},
   "source": [
    "Проверим присутствие пропущенных значений в датасете. Пропуски есть в колонках ```topic```, ```tags```. Эти колонки являются целевыми для моделей классификации, поэтому удалим пропущенные значения.\n",
    "\n",
    "Также удалим колонку ```url``` с информацией о ссылке на новость."
   ]
  },
  {
   "cell_type": "code",
   "execution_count": 10,
   "metadata": {},
   "outputs": [
    {
     "data": {
      "text/plain": [
       "url          0\n",
       "title        0\n",
       "text         5\n",
       "topic    62002\n",
       "tags     27219\n",
       "date         0\n",
       "dtype: int64"
      ]
     },
     "execution_count": 10,
     "metadata": {},
     "output_type": "execute_result"
    }
   ],
   "source": [
    "news.isnull().sum()"
   ]
  },
  {
   "cell_type": "code",
   "execution_count": 89,
   "metadata": {},
   "outputs": [
    {
     "data": {
      "text/html": [
       "<div>\n",
       "<style scoped>\n",
       "    .dataframe tbody tr th:only-of-type {\n",
       "        vertical-align: middle;\n",
       "    }\n",
       "\n",
       "    .dataframe tbody tr th {\n",
       "        vertical-align: top;\n",
       "    }\n",
       "\n",
       "    .dataframe thead th {\n",
       "        text-align: right;\n",
       "    }\n",
       "</style>\n",
       "<table border=\"1\" class=\"dataframe\">\n",
       "  <thead>\n",
       "    <tr style=\"text-align: right;\">\n",
       "      <th></th>\n",
       "      <th>Количество пропущенных значений</th>\n",
       "    </tr>\n",
       "  </thead>\n",
       "  <tbody>\n",
       "    <tr>\n",
       "      <td>url</td>\n",
       "      <td>0</td>\n",
       "    </tr>\n",
       "    <tr>\n",
       "      <td>title</td>\n",
       "      <td>0</td>\n",
       "    </tr>\n",
       "    <tr>\n",
       "      <td>text</td>\n",
       "      <td>5</td>\n",
       "    </tr>\n",
       "    <tr>\n",
       "      <td>topic</td>\n",
       "      <td>62002</td>\n",
       "    </tr>\n",
       "    <tr>\n",
       "      <td>tags</td>\n",
       "      <td>27219</td>\n",
       "    </tr>\n",
       "    <tr>\n",
       "      <td>date</td>\n",
       "      <td>0</td>\n",
       "    </tr>\n",
       "  </tbody>\n",
       "</table>\n",
       "</div>"
      ],
      "text/plain": [
       "       Количество пропущенных значений\n",
       "url                                  0\n",
       "title                                0\n",
       "text                                 5\n",
       "topic                            62002\n",
       "tags                             27219\n",
       "date                                 0"
      ]
     },
     "execution_count": 89,
     "metadata": {},
     "output_type": "execute_result"
    }
   ],
   "source": [
    "pd.DataFrame(news.isnull().sum(), columns=['Количество пропущенных значений'])"
   ]
  },
  {
   "cell_type": "code",
   "execution_count": 90,
   "metadata": {},
   "outputs": [],
   "source": [
    "news = news.drop('url', axis=1)\n",
    "news = news.drop(news[news.tags.isnull()].index, axis=0)\n",
    "news = news.drop(news[news.topic.isnull()].index, axis=0)"
   ]
  },
  {
   "cell_type": "code",
   "execution_count": 91,
   "metadata": {},
   "outputs": [],
   "source": [
    "news = news.drop(news[news.text.isnull()].index, axis=0)"
   ]
  },
  {
   "cell_type": "code",
   "execution_count": 10,
   "metadata": {},
   "outputs": [],
   "source": [
    "#news = news.drop('date', axis=1)"
   ]
  },
  {
   "cell_type": "code",
   "execution_count": 92,
   "metadata": {},
   "outputs": [],
   "source": [
    "news = news.drop(news[news.tags=='Все'].index,axis=0)"
   ]
  },
  {
   "cell_type": "code",
   "execution_count": 93,
   "metadata": {},
   "outputs": [],
   "source": [
    "news = news.reset_index()"
   ]
  },
  {
   "cell_type": "code",
   "execution_count": 94,
   "metadata": {},
   "outputs": [],
   "source": [
    "news = news.drop('index', axis=1)"
   ]
  },
  {
   "cell_type": "code",
   "execution_count": 95,
   "metadata": {},
   "outputs": [
    {
     "data": {
      "text/html": [
       "<div>\n",
       "<style scoped>\n",
       "    .dataframe tbody tr th:only-of-type {\n",
       "        vertical-align: middle;\n",
       "    }\n",
       "\n",
       "    .dataframe tbody tr th {\n",
       "        vertical-align: top;\n",
       "    }\n",
       "\n",
       "    .dataframe thead th {\n",
       "        text-align: right;\n",
       "    }\n",
       "</style>\n",
       "<table border=\"1\" class=\"dataframe\">\n",
       "  <thead>\n",
       "    <tr style=\"text-align: right;\">\n",
       "      <th></th>\n",
       "      <th>title</th>\n",
       "      <th>text</th>\n",
       "      <th>topic</th>\n",
       "      <th>tags</th>\n",
       "      <th>date</th>\n",
       "    </tr>\n",
       "  </thead>\n",
       "  <tbody>\n",
       "    <tr>\n",
       "      <td>0</td>\n",
       "      <td>1914. Русские войска вступили в пределы Венгрии</td>\n",
       "      <td>Бои у Сопоцкина и Друскеник закончились отступ...</td>\n",
       "      <td>Библиотека</td>\n",
       "      <td>Первая мировая</td>\n",
       "      <td>1914/09/16</td>\n",
       "    </tr>\n",
       "    <tr>\n",
       "      <td>1</td>\n",
       "      <td>1914. Празднование столетия М.Ю. Лермонтова от...</td>\n",
       "      <td>Министерство народного просвещения, в виду про...</td>\n",
       "      <td>Библиотека</td>\n",
       "      <td>Первая мировая</td>\n",
       "      <td>1914/09/16</td>\n",
       "    </tr>\n",
       "    <tr>\n",
       "      <td>2</td>\n",
       "      <td>1914. Das ist Nesteroff!</td>\n",
       "      <td>Штабс-капитан П. Н. Нестеров на днях, увидев в...</td>\n",
       "      <td>Библиотека</td>\n",
       "      <td>Первая мировая</td>\n",
       "      <td>1914/09/17</td>\n",
       "    </tr>\n",
       "    <tr>\n",
       "      <td>3</td>\n",
       "      <td>1914. Бульдог-гонец под Льежем</td>\n",
       "      <td>Фотограф-корреспондент Daily Mirror рассказыва...</td>\n",
       "      <td>Библиотека</td>\n",
       "      <td>Первая мировая</td>\n",
       "      <td>1914/09/17</td>\n",
       "    </tr>\n",
       "    <tr>\n",
       "      <td>4</td>\n",
       "      <td>1914. Под Люблином пойман швабский зверь</td>\n",
       "      <td>Лица, приехавшие в Варшаву из Люблина, передаю...</td>\n",
       "      <td>Библиотека</td>\n",
       "      <td>Первая мировая</td>\n",
       "      <td>1914/09/18</td>\n",
       "    </tr>\n",
       "    <tr>\n",
       "      <td>...</td>\n",
       "      <td>...</td>\n",
       "      <td>...</td>\n",
       "      <td>...</td>\n",
       "      <td>...</td>\n",
       "      <td>...</td>\n",
       "    </tr>\n",
       "    <tr>\n",
       "      <td>259068</td>\n",
       "      <td>«Желтые жилеты» прорвали кордон полиции под «М...</td>\n",
       "      <td>Протесты движения «желтых жилетов» в Париже сн...</td>\n",
       "      <td>Мир</td>\n",
       "      <td>Происшествия</td>\n",
       "      <td>2018/12/15</td>\n",
       "    </tr>\n",
       "    <tr>\n",
       "      <td>259069</td>\n",
       "      <td>Су-27 разбился на Украине</td>\n",
       "      <td>Истребитель Су-27 разбился в Житомирской облас...</td>\n",
       "      <td>Бывший СССР</td>\n",
       "      <td>Украина</td>\n",
       "      <td>2018/12/15</td>\n",
       "    </tr>\n",
       "    <tr>\n",
       "      <td>259070</td>\n",
       "      <td>В Петербурге нашли квартиру из 58 комнат</td>\n",
       "      <td>В Московском районе Санкт-Петербурга на продаж...</td>\n",
       "      <td>Дом</td>\n",
       "      <td>Квартира</td>\n",
       "      <td>2018/12/15</td>\n",
       "    </tr>\n",
       "    <tr>\n",
       "      <td>259071</td>\n",
       "      <td>Падение горнолыжника на полной скорости попало...</td>\n",
       "      <td>Швейцарский горнолыжник Марк Гизин неудачно пр...</td>\n",
       "      <td>Спорт</td>\n",
       "      <td>Зимние виды</td>\n",
       "      <td>2018/12/15</td>\n",
       "    </tr>\n",
       "    <tr>\n",
       "      <td>259072</td>\n",
       "      <td>Путин порассуждал о сексе, наркотиках и протес...</td>\n",
       "      <td>Президент России Владимир Путин рассказал, что...</td>\n",
       "      <td>Россия</td>\n",
       "      <td>Политика</td>\n",
       "      <td>2018/12/15</td>\n",
       "    </tr>\n",
       "  </tbody>\n",
       "</table>\n",
       "<p>259073 rows × 5 columns</p>\n",
       "</div>"
      ],
      "text/plain": [
       "                                                    title  \\\n",
       "0       1914. Русские войска вступили в пределы Венгрии     \n",
       "1       1914. Празднование столетия М.Ю. Лермонтова от...   \n",
       "2                                1914. Das ist Nesteroff!   \n",
       "3                         1914. Бульдог-гонец под Льежем    \n",
       "4                1914. Под Люблином пойман швабский зверь   \n",
       "...                                                   ...   \n",
       "259068  «Желтые жилеты» прорвали кордон полиции под «М...   \n",
       "259069                          Су-27 разбился на Украине   \n",
       "259070           В Петербурге нашли квартиру из 58 комнат   \n",
       "259071  Падение горнолыжника на полной скорости попало...   \n",
       "259072  Путин порассуждал о сексе, наркотиках и протес...   \n",
       "\n",
       "                                                     text        topic  \\\n",
       "0       Бои у Сопоцкина и Друскеник закончились отступ...   Библиотека   \n",
       "1       Министерство народного просвещения, в виду про...   Библиотека   \n",
       "2       Штабс-капитан П. Н. Нестеров на днях, увидев в...   Библиотека   \n",
       "3       Фотограф-корреспондент Daily Mirror рассказыва...   Библиотека   \n",
       "4       Лица, приехавшие в Варшаву из Люблина, передаю...   Библиотека   \n",
       "...                                                   ...          ...   \n",
       "259068  Протесты движения «желтых жилетов» в Париже сн...          Мир   \n",
       "259069  Истребитель Су-27 разбился в Житомирской облас...  Бывший СССР   \n",
       "259070  В Московском районе Санкт-Петербурга на продаж...          Дом   \n",
       "259071  Швейцарский горнолыжник Марк Гизин неудачно пр...        Спорт   \n",
       "259072  Президент России Владимир Путин рассказал, что...       Россия   \n",
       "\n",
       "                  tags        date  \n",
       "0       Первая мировая  1914/09/16  \n",
       "1       Первая мировая  1914/09/16  \n",
       "2       Первая мировая  1914/09/17  \n",
       "3       Первая мировая  1914/09/17  \n",
       "4       Первая мировая  1914/09/18  \n",
       "...                ...         ...  \n",
       "259068    Происшествия  2018/12/15  \n",
       "259069         Украина  2018/12/15  \n",
       "259070        Квартира  2018/12/15  \n",
       "259071     Зимние виды  2018/12/15  \n",
       "259072        Политика  2018/12/15  \n",
       "\n",
       "[259073 rows x 5 columns]"
      ]
     },
     "execution_count": 95,
     "metadata": {},
     "output_type": "execute_result"
    }
   ],
   "source": [
    "news"
   ]
  },
  {
   "cell_type": "code",
   "execution_count": 119,
   "metadata": {},
   "outputs": [],
   "source": [
    "year = [news.date[i].split('/')[0] for i in range(len(news))]\n",
    "news['year'] = year"
   ]
  },
  {
   "cell_type": "code",
   "execution_count": 127,
   "metadata": {},
   "outputs": [],
   "source": [
    "news = news[news.year == '2018']"
   ]
  },
  {
   "cell_type": "code",
   "execution_count": 142,
   "metadata": {},
   "outputs": [],
   "source": [
    "news = news.reset_index()"
   ]
  },
  {
   "cell_type": "code",
   "execution_count": 144,
   "metadata": {},
   "outputs": [],
   "source": [
    "news = news.drop('index', axis=1)"
   ]
  },
  {
   "cell_type": "markdown",
   "metadata": {},
   "source": [
    "Сохраним полученный датасет."
   ]
  },
  {
   "cell_type": "code",
   "execution_count": 146,
   "metadata": {},
   "outputs": [],
   "source": [
    "news.to_csv('news_forAnalyzer.csv', index=False)"
   ]
  },
  {
   "cell_type": "markdown",
   "metadata": {},
   "source": [
    "**Предварительная обработка данных**"
   ]
  },
  {
   "cell_type": "markdown",
   "metadata": {},
   "source": [
    "Разобьем заголовок новости и текст на токены; исключим иностранные слова, знаки пунктуации, цифры; исключим многочастотные стоп-слова и лемматизируем оставшиеся."
   ]
  },
  {
   "cell_type": "code",
   "execution_count": 25,
   "metadata": {},
   "outputs": [],
   "source": [
    "news = pd.read_csv('news_forAnalyzer.csv')"
   ]
  },
  {
   "cell_type": "code",
   "execution_count": 26,
   "metadata": {},
   "outputs": [],
   "source": [
    "sw_ru = set(stopwords.words('russian'))"
   ]
  },
  {
   "cell_type": "code",
   "execution_count": 61,
   "metadata": {},
   "outputs": [
    {
     "data": {
      "text/plain": [
       "151"
      ]
     },
     "execution_count": 61,
     "metadata": {},
     "output_type": "execute_result"
    }
   ],
   "source": [
    "len(sw_ru)"
   ]
  },
  {
   "cell_type": "code",
   "execution_count": 27,
   "metadata": {},
   "outputs": [],
   "source": [
    "#https://countwordsfree.com/stopwords/russian, encoding='CP1251'\n",
    "with open('stop_words_russian.txt') as f:\n",
    "    sw_ru = [l for l in f]"
   ]
  },
  {
   "cell_type": "code",
   "execution_count": 63,
   "metadata": {},
   "outputs": [
    {
     "data": {
      "text/plain": [
       "421"
      ]
     },
     "execution_count": 63,
     "metadata": {},
     "output_type": "execute_result"
    }
   ],
   "source": [
    "len(sw_ru)"
   ]
  },
  {
   "cell_type": "code",
   "execution_count": 28,
   "metadata": {},
   "outputs": [],
   "source": [
    "sw_ru = ''.join(sw_ru).split('\\n')"
   ]
  },
  {
   "cell_type": "code",
   "execution_count": 29,
   "metadata": {},
   "outputs": [],
   "source": [
    "dictionary = {}\n",
    "pymorphy2_analyzer = MorphAnalyzer()\n",
    "\n",
    "def get_lemmatized_str(s):\n",
    "    s = re.findall(r'[а-я-]+', s.lower())\n",
    "    s = [word for word in s if not word in sw_ru]\n",
    "\n",
    "    answer = []\n",
    "    for word in s:\n",
    "        if word in dictionary.keys():\n",
    "            answer.append(dictionary[word])\n",
    "        else:\n",
    "            norm_word = pymorphy2_analyzer.parse(word)[0].normal_form\n",
    "            answer.append(norm_word)\n",
    "            dictionary[word] = norm_word\n",
    "    \n",
    "    return set(answer)"
   ]
  },
  {
   "cell_type": "markdown",
   "metadata": {},
   "source": [
    "Рассмотрим пример работы функции на случайном тексте из датасета."
   ]
  },
  {
   "cell_type": "code",
   "execution_count": 83,
   "metadata": {},
   "outputs": [
    {
     "data": {
      "text/html": [
       "<div>\n",
       "<style scoped>\n",
       "    .dataframe tbody tr th:only-of-type {\n",
       "        vertical-align: middle;\n",
       "    }\n",
       "\n",
       "    .dataframe tbody tr th {\n",
       "        vertical-align: top;\n",
       "    }\n",
       "\n",
       "    .dataframe thead th {\n",
       "        text-align: right;\n",
       "    }\n",
       "</style>\n",
       "<table border=\"1\" class=\"dataframe\">\n",
       "  <thead>\n",
       "    <tr style=\"text-align: right;\">\n",
       "      <th></th>\n",
       "      <th>title</th>\n",
       "      <th>text</th>\n",
       "      <th>topic</th>\n",
       "      <th>tags</th>\n",
       "      <th>date</th>\n",
       "      <th>year</th>\n",
       "    </tr>\n",
       "  </thead>\n",
       "  <tbody>\n",
       "    <tr>\n",
       "      <td>18470</td>\n",
       "      <td>Лидер «Чайфа» перепел песню про 5:0</td>\n",
       "      <td>Фото опубликовано @chaif_band Лидер группы «...</td>\n",
       "      <td>Культура</td>\n",
       "      <td>Музыка</td>\n",
       "      <td>2018/06/14</td>\n",
       "      <td>2018</td>\n",
       "    </tr>\n",
       "  </tbody>\n",
       "</table>\n",
       "</div>"
      ],
      "text/plain": [
       "                                     title  \\\n",
       "18470  Лидер «Чайфа» перепел песню про 5:0   \n",
       "\n",
       "                                                    text     topic    tags  \\\n",
       "18470    Фото опубликовано @chaif_band Лидер группы «...  Культура  Музыка   \n",
       "\n",
       "             date  year  \n",
       "18470  2018/06/14  2018  "
      ]
     },
     "execution_count": 83,
     "metadata": {},
     "output_type": "execute_result"
    }
   ],
   "source": [
    "news[np.where(news.text==min(news.text),news.text,'')!='']"
   ]
  },
  {
   "cell_type": "code",
   "execution_count": 97,
   "metadata": {},
   "outputs": [
    {
     "data": {
      "text/plain": [
       "'  Фото опубликовано @chaif_band Лидер группы «Чайф» Владимир Шахрин переделал припев своей песни «Аргентина — Ямайка 5:0». Свое творчество он опубликовал на странице музыкального коллектива в Instagram. «Уходит боль, уходит боль. Россия — Саудовская Аравия 5:0», — спел он, после чего назвал отечественную сборную «молодцами, порадовавшими старца». «Аргентина — Ямайка 5:0» — песня российской группы «Чайф» в стиле регги. Она посвящена разгромному поражению сборной Ямайки на чемпионате мира по футболу 1998 года. В 1999 году композиция получила премию «Золотой граммофон» как лучшая рок-песня. 14 июня сборная России обыграла команду Саудовской Аравии в матче-открытии чемпионата мира по футболу 2018 года. Встреча завершилась со счетом 5:0.'"
      ]
     },
     "execution_count": 97,
     "metadata": {},
     "output_type": "execute_result"
    }
   ],
   "source": [
    "n = 18470\n",
    "news.text[n]"
   ]
  },
  {
   "cell_type": "code",
   "execution_count": 98,
   "metadata": {},
   "outputs": [
    {
     "data": {
      "text/plain": [
       "'назвать рок-песня песня сборная разгромный ямайка старец аравия лидер поражение золотой хороший встреча опубликовать футбол завершиться счёт июнь граммофон саудовский спеть творчество группа регги страница чайф порадовать шахрина молодец обыграть владимир стиль команда матч-открытие аргентина коллектив премия уходить фото боль российский музыкальный россия отечественный чемпионат переделать получить посвятить композиция припев'"
      ]
     },
     "execution_count": 98,
     "metadata": {},
     "output_type": "execute_result"
    }
   ],
   "source": [
    "' '.join(get_lemmatized_str(news.text[n]))"
   ]
  },
  {
   "cell_type": "code",
   "execution_count": 37,
   "metadata": {},
   "outputs": [
    {
     "data": {
      "image/png": "[encoded data removed]",
      "text/plain": [
       "<Figure size 1080x936 with 1 Axes>"
      ]
     },
     "metadata": {
      "needs_background": "light"
     },
     "output_type": "display_data"
    }
   ],
   "source": [
    "tags_count = news.tags.groupby(news.tags).count().sort_values() #ascending=False\n",
    "#tags_count = tags_count[(len(tags_count)-20):]\n",
    "tags_count=tags_count[tags_count>1000]\n",
    "\n",
    "plt.figure(figsize=(15, 13))\n",
    "colors = ['#999999']*(len(tags_count)-1)+['#66CCCC']\n",
    "plt.barh(tags_count.index, tags_count, color=colors)\n",
    "plt.title('Распределение тегов по количеству новостей')\n",
    "plt.xlabel('Количество новостей по тегу')\n",
    "plt.ylabel('Название тега')\n",
    "plt.xlim(0, max(tags_count)+100)\n",
    "plt.ylim(0, len(tags_count))\n",
    "plt.show()"
   ]
  },
  {
   "cell_type": "code",
   "execution_count": 31,
   "metadata": {},
   "outputs": [
    {
     "data": {
      "text/plain": [
       "tags\n",
       "Экология           2\n",
       "Наследие           3\n",
       "Выборы             3\n",
       "Туризм             7\n",
       "Страноведение      8\n",
       "                ... \n",
       "Зимние виды      646\n",
       "Наука            673\n",
       "Регионы          677\n",
       "Бизнес           703\n",
       "Звери            741\n",
       "Name: tags, Length: 64, dtype: int64"
      ]
     },
     "execution_count": 31,
     "metadata": {},
     "output_type": "execute_result"
    }
   ],
   "source": [
    "tags_count[tags_count<1000]"
   ]
  },
  {
   "cell_type": "code",
   "execution_count": 32,
   "metadata": {},
   "outputs": [
    {
     "data": {
      "text/plain": [
       "['Экология',\n",
       " 'Наследие',\n",
       " 'Выборы',\n",
       " 'Туризм',\n",
       " 'Страноведение',\n",
       " 'Фотография',\n",
       " 'Софт',\n",
       " 'Игры',\n",
       " 'Молдавия',\n",
       " 'Вкусы',\n",
       " 'Москва',\n",
       " 'Авто',\n",
       " 'Мемы',\n",
       " 'Социальная сфера',\n",
       " 'Реклама',\n",
       " 'Вирусные ролики',\n",
       " 'Вещи',\n",
       " 'Движение',\n",
       " 'Еда',\n",
       " 'Инструменты',\n",
       " 'Прибалтика',\n",
       " 'Часы',\n",
       " 'История',\n",
       " 'Средняя Азия',\n",
       " 'Книги',\n",
       " 'Искусство',\n",
       " 'Преступная Россия',\n",
       " 'Мнения',\n",
       " 'Офис',\n",
       " 'Театр',\n",
       " 'Достижения',\n",
       " 'Киберпреступность',\n",
       " 'Гаджеты',\n",
       " 'Белоруссия',\n",
       " 'Техника',\n",
       " 'Россия',\n",
       " 'Город',\n",
       " 'Деньги',\n",
       " 'Летние виды',\n",
       " 'Дача',\n",
       " 'Мир',\n",
       " 'Пресса',\n",
       " 'Жизнь',\n",
       " 'Хоккей',\n",
       " 'Закавказье',\n",
       " 'Внешний вид',\n",
       " 'Криминал',\n",
       " 'Coцсети',\n",
       " 'Полиция и спецслужбы',\n",
       " 'События',\n",
       " 'Преступность',\n",
       " 'Деловой климат',\n",
       " 'Рынки',\n",
       " 'Стиль',\n",
       " 'Явления',\n",
       " 'ТВ и радио',\n",
       " 'Космос',\n",
       " 'Бокс и ММА',\n",
       " 'Конфликты',\n",
       " 'Зимние виды',\n",
       " 'Наука',\n",
       " 'Регионы',\n",
       " 'Бизнес',\n",
       " 'Звери']"
      ]
     },
     "execution_count": 32,
     "metadata": {},
     "output_type": "execute_result"
    }
   ],
   "source": [
    "list(tags_count[tags_count<1000].keys())"
   ]
  },
  {
   "cell_type": "code",
   "execution_count": 33,
   "metadata": {},
   "outputs": [],
   "source": [
    "news = news[news.tags.isin(list(tags_count[tags_count>1000].keys()))]"
   ]
  },
  {
   "cell_type": "code",
   "execution_count": 34,
   "metadata": {},
   "outputs": [],
   "source": [
    "news = news.reset_index()"
   ]
  },
  {
   "cell_type": "markdown",
   "metadata": {},
   "source": [
    "Преобразуем ```title```."
   ]
  },
  {
   "cell_type": "code",
   "execution_count": 35,
   "metadata": {},
   "outputs": [],
   "source": [
    "news_ = news.copy()"
   ]
  },
  {
   "cell_type": "code",
   "execution_count": 36,
   "metadata": {},
   "outputs": [
    {
     "name": "stdout",
     "output_type": "stream",
     "text": [
      "CPU times: user 22.3 s, sys: 338 ms, total: 22.7 s\n",
      "Wall time: 22.5 s\n"
     ]
    }
   ],
   "source": [
    "%%time\n",
    "for i in range(len(news_.title)):\n",
    "    news_.title[i] = get_lemmatized_str(news_.title[i])"
   ]
  },
  {
   "cell_type": "code",
   "execution_count": 38,
   "metadata": {},
   "outputs": [
    {
     "data": {
      "text/html": [
       "<div>\n",
       "<style scoped>\n",
       "    .dataframe tbody tr th:only-of-type {\n",
       "        vertical-align: middle;\n",
       "    }\n",
       "\n",
       "    .dataframe tbody tr th {\n",
       "        vertical-align: top;\n",
       "    }\n",
       "\n",
       "    .dataframe thead th {\n",
       "        text-align: right;\n",
       "    }\n",
       "</style>\n",
       "<table border=\"1\" class=\"dataframe\">\n",
       "  <thead>\n",
       "    <tr style=\"text-align: right;\">\n",
       "      <th></th>\n",
       "      <th>index</th>\n",
       "      <th>title</th>\n",
       "      <th>text</th>\n",
       "      <th>topic</th>\n",
       "      <th>tags</th>\n",
       "      <th>date</th>\n",
       "      <th>year</th>\n",
       "    </tr>\n",
       "  </thead>\n",
       "  <tbody>\n",
       "    <tr>\n",
       "      <td>0</td>\n",
       "      <td>0</td>\n",
       "      <td>{глаз, -летний, ровесница-немка, беженец, заре...</td>\n",
       "      <td>В немецком городе Кандель (земля Рейнланд-Пфал...</td>\n",
       "      <td>Мир</td>\n",
       "      <td>Общество</td>\n",
       "      <td>2018/01/01</td>\n",
       "      <td>2018</td>\n",
       "    </tr>\n",
       "    <tr>\n",
       "      <td>1</td>\n",
       "      <td>1</td>\n",
       "      <td>{кадыров, прочитать, новогодний, стихотворение}</td>\n",
       "      <td>Глава Чечни Рамзан Кадыров опубликовал в своем...</td>\n",
       "      <td>Россия</td>\n",
       "      <td>Политика</td>\n",
       "      <td>2018/01/01</td>\n",
       "      <td>2018</td>\n",
       "    </tr>\n",
       "    <tr>\n",
       "      <td>2</td>\n",
       "      <td>2</td>\n",
       "      <td>{поддержать, иран, протестовать, белый, дом}</td>\n",
       "      <td>Пресс-секретарь Белого дома Сара Сандерс заяви...</td>\n",
       "      <td>Мир</td>\n",
       "      <td>Политика</td>\n",
       "      <td>2018/01/01</td>\n",
       "      <td>2018</td>\n",
       "    </tr>\n",
       "    <tr>\n",
       "      <td>3</td>\n",
       "      <td>3</td>\n",
       "      <td>{пожар, возможный, причина, южно-сахалинск, ёл...</td>\n",
       "      <td>Пожар, уничтоживший новогоднюю елку на площади...</td>\n",
       "      <td>Россия</td>\n",
       "      <td>Общество</td>\n",
       "      <td>2018/01/01</td>\n",
       "      <td>2018</td>\n",
       "    </tr>\n",
       "    <tr>\n",
       "      <td>4</td>\n",
       "      <td>4</td>\n",
       "      <td>{минимальный, труд, россиянин, размер, оплата,...</td>\n",
       "      <td>В России с 1 января 2018 года минимальный разм...</td>\n",
       "      <td>Экономика</td>\n",
       "      <td>Госэкономика</td>\n",
       "      <td>2018/01/01</td>\n",
       "      <td>2018</td>\n",
       "    </tr>\n",
       "    <tr>\n",
       "      <td>...</td>\n",
       "      <td>...</td>\n",
       "      <td>...</td>\n",
       "      <td>...</td>\n",
       "      <td>...</td>\n",
       "      <td>...</td>\n",
       "      <td>...</td>\n",
       "      <td>...</td>\n",
       "    </tr>\n",
       "    <tr>\n",
       "      <td>26224</td>\n",
       "      <td>40965</td>\n",
       "      <td>{раскольник, глава, митрополит, украинский, уп...</td>\n",
       "      <td>Предстоятелем новой украинской православной це...</td>\n",
       "      <td>Бывший СССР</td>\n",
       "      <td>Украина</td>\n",
       "      <td>2018/12/15</td>\n",
       "      <td>2018</td>\n",
       "    </tr>\n",
       "    <tr>\n",
       "      <td>26225</td>\n",
       "      <td>40966</td>\n",
       "      <td>{полиция, кордон, марсельеза, жилет, жёлтый, п...</td>\n",
       "      <td>Протесты движения «желтых жилетов» в Париже сн...</td>\n",
       "      <td>Мир</td>\n",
       "      <td>Происшествия</td>\n",
       "      <td>2018/12/15</td>\n",
       "      <td>2018</td>\n",
       "    </tr>\n",
       "    <tr>\n",
       "      <td>26226</td>\n",
       "      <td>40967</td>\n",
       "      <td>{украина, разбиться, су-}</td>\n",
       "      <td>Истребитель Су-27 разбился в Житомирской облас...</td>\n",
       "      <td>Бывший СССР</td>\n",
       "      <td>Украина</td>\n",
       "      <td>2018/12/15</td>\n",
       "      <td>2018</td>\n",
       "    </tr>\n",
       "    <tr>\n",
       "      <td>26227</td>\n",
       "      <td>40968</td>\n",
       "      <td>{петербург, квартира, комната, наслать}</td>\n",
       "      <td>В Московском районе Санкт-Петербурга на продаж...</td>\n",
       "      <td>Дом</td>\n",
       "      <td>Квартира</td>\n",
       "      <td>2018/12/15</td>\n",
       "      <td>2018</td>\n",
       "    </tr>\n",
       "    <tr>\n",
       "      <td>26228</td>\n",
       "      <td>40970</td>\n",
       "      <td>{рэп, протест, путин, наркотик, секс, порассуж...</td>\n",
       "      <td>Президент России Владимир Путин рассказал, что...</td>\n",
       "      <td>Россия</td>\n",
       "      <td>Политика</td>\n",
       "      <td>2018/12/15</td>\n",
       "      <td>2018</td>\n",
       "    </tr>\n",
       "  </tbody>\n",
       "</table>\n",
       "<p>26229 rows × 7 columns</p>\n",
       "</div>"
      ],
      "text/plain": [
       "       index                                              title  \\\n",
       "0          0  {глаз, -летний, ровесница-немка, беженец, заре...   \n",
       "1          1    {кадыров, прочитать, новогодний, стихотворение}   \n",
       "2          2       {поддержать, иран, протестовать, белый, дом}   \n",
       "3          3  {пожар, возможный, причина, южно-сахалинск, ёл...   \n",
       "4          4  {минимальный, труд, россиянин, размер, оплата,...   \n",
       "...      ...                                                ...   \n",
       "26224  40965  {раскольник, глава, митрополит, украинский, уп...   \n",
       "26225  40966  {полиция, кордон, марсельеза, жилет, жёлтый, п...   \n",
       "26226  40967                          {украина, разбиться, су-}   \n",
       "26227  40968            {петербург, квартира, комната, наслать}   \n",
       "26228  40970  {рэп, протест, путин, наркотик, секс, порассуж...   \n",
       "\n",
       "                                                    text        topic  \\\n",
       "0      В немецком городе Кандель (земля Рейнланд-Пфал...          Мир   \n",
       "1      Глава Чечни Рамзан Кадыров опубликовал в своем...       Россия   \n",
       "2      Пресс-секретарь Белого дома Сара Сандерс заяви...          Мир   \n",
       "3      Пожар, уничтоживший новогоднюю елку на площади...       Россия   \n",
       "4      В России с 1 января 2018 года минимальный разм...    Экономика   \n",
       "...                                                  ...          ...   \n",
       "26224  Предстоятелем новой украинской православной це...  Бывший СССР   \n",
       "26225  Протесты движения «желтых жилетов» в Париже сн...          Мир   \n",
       "26226  Истребитель Су-27 разбился в Житомирской облас...  Бывший СССР   \n",
       "26227  В Московском районе Санкт-Петербурга на продаж...          Дом   \n",
       "26228  Президент России Владимир Путин рассказал, что...       Россия   \n",
       "\n",
       "               tags        date  year  \n",
       "0          Общество  2018/01/01  2018  \n",
       "1          Политика  2018/01/01  2018  \n",
       "2          Политика  2018/01/01  2018  \n",
       "3          Общество  2018/01/01  2018  \n",
       "4      Госэкономика  2018/01/01  2018  \n",
       "...             ...         ...   ...  \n",
       "26224       Украина  2018/12/15  2018  \n",
       "26225  Происшествия  2018/12/15  2018  \n",
       "26226       Украина  2018/12/15  2018  \n",
       "26227      Квартира  2018/12/15  2018  \n",
       "26228      Политика  2018/12/15  2018  \n",
       "\n",
       "[26229 rows x 7 columns]"
      ]
     },
     "execution_count": 38,
     "metadata": {},
     "output_type": "execute_result"
    }
   ],
   "source": [
    "news_"
   ]
  },
  {
   "cell_type": "code",
   "execution_count": 39,
   "metadata": {},
   "outputs": [],
   "source": [
    "news_ = news_.drop('date', axis=1)\n",
    "news_ = news_.drop('year', axis=1)\n",
    "news_ = news_.drop('topic', axis=1)\n",
    "news_ = news_.drop('index', axis=1)"
   ]
  },
  {
   "cell_type": "code",
   "execution_count": 41,
   "metadata": {},
   "outputs": [
    {
     "name": "stdout",
     "output_type": "stream",
     "text": [
      "CPU times: user 59.8 s, sys: 506 ms, total: 1min\n",
      "Wall time: 1min\n"
     ]
    }
   ],
   "source": [
    "%%time\n",
    "for i in range(len(news_.text)):\n",
    "    news_.text[i] = get_lemmatized_str(news_.text[i])"
   ]
  },
  {
   "cell_type": "code",
   "execution_count": 73,
   "metadata": {},
   "outputs": [
    {
     "data": {
      "text/html": [
       "<div>\n",
       "<style scoped>\n",
       "    .dataframe tbody tr th:only-of-type {\n",
       "        vertical-align: middle;\n",
       "    }\n",
       "\n",
       "    .dataframe tbody tr th {\n",
       "        vertical-align: top;\n",
       "    }\n",
       "\n",
       "    .dataframe thead th {\n",
       "        text-align: right;\n",
       "    }\n",
       "</style>\n",
       "<table border=\"1\" class=\"dataframe\">\n",
       "  <thead>\n",
       "    <tr style=\"text-align: right;\">\n",
       "      <th></th>\n",
       "      <th>title</th>\n",
       "      <th>text</th>\n",
       "      <th>tags</th>\n",
       "    </tr>\n",
       "  </thead>\n",
       "  <tbody>\n",
       "    <tr>\n",
       "      <td>0</td>\n",
       "      <td>{глаз, -летний, ровесница-немка, беженец, заре...</td>\n",
       "      <td>{афганец, изнасиловать, произойти, сообщаться,...</td>\n",
       "      <td>Общество</td>\n",
       "    </tr>\n",
       "    <tr>\n",
       "      <td>1</td>\n",
       "      <td>{кадыров, прочитать, новогодний, стихотворение}</td>\n",
       "      <td>{чеченский, напомнить, великий, присвоить, дел...</td>\n",
       "      <td>Политика</td>\n",
       "    </tr>\n",
       "    <tr>\n",
       "      <td>2</td>\n",
       "      <td>{поддержать, иран, протестовать, белый, дом}</td>\n",
       "      <td>{общаться, демонстрант, популярный, решение, ц...</td>\n",
       "      <td>Политика</td>\n",
       "    </tr>\n",
       "    <tr>\n",
       "      <td>3</td>\n",
       "      <td>{пожар, возможный, причина, южно-сахалинск, ёл...</td>\n",
       "      <td>{прибыть, пресс-служба, пожарный, место, южно-...</td>\n",
       "      <td>Общество</td>\n",
       "    </tr>\n",
       "    <tr>\n",
       "      <td>4</td>\n",
       "      <td>{минимальный, труд, россиянин, размер, оплата,...</td>\n",
       "      <td>{закон, минимальный, путин, процент, минтруд, ...</td>\n",
       "      <td>Госэкономика</td>\n",
       "    </tr>\n",
       "    <tr>\n",
       "      <td>...</td>\n",
       "      <td>...</td>\n",
       "      <td>...</td>\n",
       "      <td>...</td>\n",
       "    </tr>\n",
       "    <tr>\n",
       "      <td>26224</td>\n",
       "      <td>{раскольник, глава, митрополит, украинский, уп...</td>\n",
       "      <td>{раскольник, пётр, сообщаться, решение, проход...</td>\n",
       "      <td>Украина</td>\n",
       "    </tr>\n",
       "    <tr>\n",
       "      <td>26225</td>\n",
       "      <td>{полиция, кордон, марсельеза, жилет, жёлтый, п...</td>\n",
       "      <td>{столкновение, гарние, мусорный, отставка, эмм...</td>\n",
       "      <td>Происшествия</td>\n",
       "    </tr>\n",
       "    <tr>\n",
       "      <td>26226</td>\n",
       "      <td>{украина, разбиться, су-}</td>\n",
       "      <td>{лётчик, пресс-служба, сша, произойти, погибну...</td>\n",
       "      <td>Украина</td>\n",
       "    </tr>\n",
       "    <tr>\n",
       "      <td>26227</td>\n",
       "      <td>{петербург, квартира, комната, наслать}</td>\n",
       "      <td>{квадратный, место, жизнь, выставить, россия, ...</td>\n",
       "      <td>Квартира</td>\n",
       "    </tr>\n",
       "    <tr>\n",
       "      <td>26228</td>\n",
       "      <td>{рэп, протест, путин, наркотик, секс, порассуж...</td>\n",
       "      <td>{отмена, искусство, матвиенко, россия, секс, п...</td>\n",
       "      <td>Политика</td>\n",
       "    </tr>\n",
       "  </tbody>\n",
       "</table>\n",
       "<p>26229 rows × 3 columns</p>\n",
       "</div>"
      ],
      "text/plain": [
       "                                                   title  \\\n",
       "0      {глаз, -летний, ровесница-немка, беженец, заре...   \n",
       "1        {кадыров, прочитать, новогодний, стихотворение}   \n",
       "2           {поддержать, иран, протестовать, белый, дом}   \n",
       "3      {пожар, возможный, причина, южно-сахалинск, ёл...   \n",
       "4      {минимальный, труд, россиянин, размер, оплата,...   \n",
       "...                                                  ...   \n",
       "26224  {раскольник, глава, митрополит, украинский, уп...   \n",
       "26225  {полиция, кордон, марсельеза, жилет, жёлтый, п...   \n",
       "26226                          {украина, разбиться, су-}   \n",
       "26227            {петербург, квартира, комната, наслать}   \n",
       "26228  {рэп, протест, путин, наркотик, секс, порассуж...   \n",
       "\n",
       "                                                    text          tags  \n",
       "0      {афганец, изнасиловать, произойти, сообщаться,...      Общество  \n",
       "1      {чеченский, напомнить, великий, присвоить, дел...      Политика  \n",
       "2      {общаться, демонстрант, популярный, решение, ц...      Политика  \n",
       "3      {прибыть, пресс-служба, пожарный, место, южно-...      Общество  \n",
       "4      {закон, минимальный, путин, процент, минтруд, ...  Госэкономика  \n",
       "...                                                  ...           ...  \n",
       "26224  {раскольник, пётр, сообщаться, решение, проход...       Украина  \n",
       "26225  {столкновение, гарние, мусорный, отставка, эмм...  Происшествия  \n",
       "26226  {лётчик, пресс-служба, сша, произойти, погибну...       Украина  \n",
       "26227  {квадратный, место, жизнь, выставить, россия, ...      Квартира  \n",
       "26228  {отмена, искусство, матвиенко, россия, секс, п...      Политика  \n",
       "\n",
       "[26229 rows x 3 columns]"
      ]
     },
     "execution_count": 73,
     "metadata": {},
     "output_type": "execute_result"
    }
   ],
   "source": [
    "news_"
   ]
  },
  {
   "cell_type": "markdown",
   "metadata": {},
   "source": [
    "Сохраним полученный результат в отдельном файле."
   ]
  },
  {
   "cell_type": "markdown",
   "metadata": {},
   "source": [
    "Преобразуем ```text```."
   ]
  },
  {
   "cell_type": "markdown",
   "metadata": {},
   "source": [
    "Сохраним полученный результат в отдельном датасете."
   ]
  },
  {
   "cell_type": "code",
   "execution_count": 74,
   "metadata": {},
   "outputs": [],
   "source": [
    "news_.to_csv('news_lemmatized.csv', index=False)"
   ]
  },
  {
   "cell_type": "code",
   "execution_count": 2,
   "metadata": {},
   "outputs": [],
   "source": [
    "df = pd.read_csv('news_lemmatized.csv')"
   ]
  },
  {
   "cell_type": "code",
   "execution_count": 3,
   "metadata": {},
   "outputs": [
    {
     "data": {
      "text/html": [
       "<div>\n",
       "<style scoped>\n",
       "    .dataframe tbody tr th:only-of-type {\n",
       "        vertical-align: middle;\n",
       "    }\n",
       "\n",
       "    .dataframe tbody tr th {\n",
       "        vertical-align: top;\n",
       "    }\n",
       "\n",
       "    .dataframe thead th {\n",
       "        text-align: right;\n",
       "    }\n",
       "</style>\n",
       "<table border=\"1\" class=\"dataframe\">\n",
       "  <thead>\n",
       "    <tr style=\"text-align: right;\">\n",
       "      <th></th>\n",
       "      <th>title</th>\n",
       "      <th>text</th>\n",
       "      <th>tags</th>\n",
       "    </tr>\n",
       "  </thead>\n",
       "  <tbody>\n",
       "    <tr>\n",
       "      <td>0</td>\n",
       "      <td>{'глаз', '-летний', 'ровесница-немка', 'бежене...</td>\n",
       "      <td>{'афганец', 'изнасиловать', 'произойти', 'сооб...</td>\n",
       "      <td>Общество</td>\n",
       "    </tr>\n",
       "    <tr>\n",
       "      <td>1</td>\n",
       "      <td>{'кадыров', 'прочитать', 'новогодний', 'стихот...</td>\n",
       "      <td>{'чеченский', 'напомнить', 'великий', 'присвои...</td>\n",
       "      <td>Политика</td>\n",
       "    </tr>\n",
       "    <tr>\n",
       "      <td>2</td>\n",
       "      <td>{'поддержать', 'иран', 'протестовать', 'белый'...</td>\n",
       "      <td>{'общаться', 'демонстрант', 'популярный', 'реш...</td>\n",
       "      <td>Политика</td>\n",
       "    </tr>\n",
       "    <tr>\n",
       "      <td>3</td>\n",
       "      <td>{'пожар', 'возможный', 'причина', 'южно-сахали...</td>\n",
       "      <td>{'прибыть', 'пресс-служба', 'пожарный', 'место...</td>\n",
       "      <td>Общество</td>\n",
       "    </tr>\n",
       "    <tr>\n",
       "      <td>4</td>\n",
       "      <td>{'минимальный', 'труд', 'россиянин', 'размер',...</td>\n",
       "      <td>{'закон', 'минимальный', 'путин', 'процент', '...</td>\n",
       "      <td>Госэкономика</td>\n",
       "    </tr>\n",
       "    <tr>\n",
       "      <td>...</td>\n",
       "      <td>...</td>\n",
       "      <td>...</td>\n",
       "      <td>...</td>\n",
       "    </tr>\n",
       "    <tr>\n",
       "      <td>26224</td>\n",
       "      <td>{'раскольник', 'глава', 'митрополит', 'украинс...</td>\n",
       "      <td>{'раскольник', 'пётр', 'сообщаться', 'решение'...</td>\n",
       "      <td>Украина</td>\n",
       "    </tr>\n",
       "    <tr>\n",
       "      <td>26225</td>\n",
       "      <td>{'полиция', 'кордон', 'марсельеза', 'жилет', '...</td>\n",
       "      <td>{'столкновение', 'гарние', 'мусорный', 'отстав...</td>\n",
       "      <td>Происшествия</td>\n",
       "    </tr>\n",
       "    <tr>\n",
       "      <td>26226</td>\n",
       "      <td>{'украина', 'разбиться', 'су-'}</td>\n",
       "      <td>{'лётчик', 'пресс-служба', 'сша', 'произойти',...</td>\n",
       "      <td>Украина</td>\n",
       "    </tr>\n",
       "    <tr>\n",
       "      <td>26227</td>\n",
       "      <td>{'петербург', 'квартира', 'комната', 'наслать'}</td>\n",
       "      <td>{'квадратный', 'место', 'жизнь', 'выставить', ...</td>\n",
       "      <td>Квартира</td>\n",
       "    </tr>\n",
       "    <tr>\n",
       "      <td>26228</td>\n",
       "      <td>{'рэп', 'протест', 'путин', 'наркотик', 'секс'...</td>\n",
       "      <td>{'отмена', 'искусство', 'матвиенко', 'россия',...</td>\n",
       "      <td>Политика</td>\n",
       "    </tr>\n",
       "  </tbody>\n",
       "</table>\n",
       "<p>26229 rows × 3 columns</p>\n",
       "</div>"
      ],
      "text/plain": [
       "                                                   title  \\\n",
       "0      {'глаз', '-летний', 'ровесница-немка', 'бежене...   \n",
       "1      {'кадыров', 'прочитать', 'новогодний', 'стихот...   \n",
       "2      {'поддержать', 'иран', 'протестовать', 'белый'...   \n",
       "3      {'пожар', 'возможный', 'причина', 'южно-сахали...   \n",
       "4      {'минимальный', 'труд', 'россиянин', 'размер',...   \n",
       "...                                                  ...   \n",
       "26224  {'раскольник', 'глава', 'митрополит', 'украинс...   \n",
       "26225  {'полиция', 'кордон', 'марсельеза', 'жилет', '...   \n",
       "26226                    {'украина', 'разбиться', 'су-'}   \n",
       "26227    {'петербург', 'квартира', 'комната', 'наслать'}   \n",
       "26228  {'рэп', 'протест', 'путин', 'наркотик', 'секс'...   \n",
       "\n",
       "                                                    text          tags  \n",
       "0      {'афганец', 'изнасиловать', 'произойти', 'сооб...      Общество  \n",
       "1      {'чеченский', 'напомнить', 'великий', 'присвои...      Политика  \n",
       "2      {'общаться', 'демонстрант', 'популярный', 'реш...      Политика  \n",
       "3      {'прибыть', 'пресс-служба', 'пожарный', 'место...      Общество  \n",
       "4      {'закон', 'минимальный', 'путин', 'процент', '...  Госэкономика  \n",
       "...                                                  ...           ...  \n",
       "26224  {'раскольник', 'пётр', 'сообщаться', 'решение'...       Украина  \n",
       "26225  {'столкновение', 'гарние', 'мусорный', 'отстав...  Происшествия  \n",
       "26226  {'лётчик', 'пресс-служба', 'сша', 'произойти',...       Украина  \n",
       "26227  {'квадратный', 'место', 'жизнь', 'выставить', ...      Квартира  \n",
       "26228  {'отмена', 'искусство', 'матвиенко', 'россия',...      Политика  \n",
       "\n",
       "[26229 rows x 3 columns]"
      ]
     },
     "execution_count": 3,
     "metadata": {},
     "output_type": "execute_result"
    }
   ],
   "source": [
    "df"
   ]
  },
  {
   "cell_type": "markdown",
   "metadata": {},
   "source": [
    "Закодируем ```tags```, чтобы можно было указать колонку в качестве целевой переменной в модели."
   ]
  },
  {
   "cell_type": "code",
   "execution_count": 3,
   "metadata": {},
   "outputs": [],
   "source": [
    "from sklearn.preprocessing import LabelEncoder"
   ]
  },
  {
   "cell_type": "code",
   "execution_count": 4,
   "metadata": {},
   "outputs": [],
   "source": [
    "label_encoder = LabelEncoder()\n",
    "corpus_encoded = label_encoder.fit_transform(df.tags)"
   ]
  },
  {
   "cell_type": "code",
   "execution_count": 5,
   "metadata": {},
   "outputs": [],
   "source": [
    "df.tags = corpus_encoded"
   ]
  },
  {
   "cell_type": "code",
   "execution_count": 7,
   "metadata": {},
   "outputs": [
    {
     "data": {
      "text/html": [
       "<div>\n",
       "<style scoped>\n",
       "    .dataframe tbody tr th:only-of-type {\n",
       "        vertical-align: middle;\n",
       "    }\n",
       "\n",
       "    .dataframe tbody tr th {\n",
       "        vertical-align: top;\n",
       "    }\n",
       "\n",
       "    .dataframe thead th {\n",
       "        text-align: right;\n",
       "    }\n",
       "</style>\n",
       "<table border=\"1\" class=\"dataframe\">\n",
       "  <thead>\n",
       "    <tr style=\"text-align: right;\">\n",
       "      <th></th>\n",
       "      <th>title</th>\n",
       "      <th>text</th>\n",
       "      <th>tags</th>\n",
       "    </tr>\n",
       "  </thead>\n",
       "  <tbody>\n",
       "    <tr>\n",
       "      <td>0</td>\n",
       "      <td>{'глаз', '-летний', 'ровесница-немка', 'бежене...</td>\n",
       "      <td>{'афганец', 'изнасиловать', 'произойти', 'сооб...</td>\n",
       "      <td>6</td>\n",
       "    </tr>\n",
       "    <tr>\n",
       "      <td>1</td>\n",
       "      <td>{'кадыров', 'прочитать', 'новогодний', 'стихот...</td>\n",
       "      <td>{'чеченский', 'напомнить', 'великий', 'присвои...</td>\n",
       "      <td>8</td>\n",
       "    </tr>\n",
       "    <tr>\n",
       "      <td>2</td>\n",
       "      <td>{'поддержать', 'иран', 'протестовать', 'белый'...</td>\n",
       "      <td>{'общаться', 'демонстрант', 'популярный', 'реш...</td>\n",
       "      <td>8</td>\n",
       "    </tr>\n",
       "    <tr>\n",
       "      <td>3</td>\n",
       "      <td>{'пожар', 'возможный', 'причина', 'южно-сахали...</td>\n",
       "      <td>{'прибыть', 'пресс-служба', 'пожарный', 'место...</td>\n",
       "      <td>6</td>\n",
       "    </tr>\n",
       "    <tr>\n",
       "      <td>4</td>\n",
       "      <td>{'минимальный', 'труд', 'россиянин', 'размер',...</td>\n",
       "      <td>{'закон', 'минимальный', 'путин', 'процент', '...</td>\n",
       "      <td>0</td>\n",
       "    </tr>\n",
       "    <tr>\n",
       "      <td>...</td>\n",
       "      <td>...</td>\n",
       "      <td>...</td>\n",
       "      <td>...</td>\n",
       "    </tr>\n",
       "    <tr>\n",
       "      <td>26224</td>\n",
       "      <td>{'раскольник', 'глава', 'митрополит', 'украинс...</td>\n",
       "      <td>{'раскольник', 'пётр', 'сообщаться', 'решение'...</td>\n",
       "      <td>11</td>\n",
       "    </tr>\n",
       "    <tr>\n",
       "      <td>26225</td>\n",
       "      <td>{'полиция', 'кордон', 'марсельеза', 'жилет', '...</td>\n",
       "      <td>{'столкновение', 'гарние', 'мусорный', 'отстав...</td>\n",
       "      <td>9</td>\n",
       "    </tr>\n",
       "    <tr>\n",
       "      <td>26226</td>\n",
       "      <td>{'украина', 'разбиться', 'су-'}</td>\n",
       "      <td>{'лётчик', 'пресс-служба', 'сша', 'произойти',...</td>\n",
       "      <td>11</td>\n",
       "    </tr>\n",
       "    <tr>\n",
       "      <td>26227</td>\n",
       "      <td>{'петербург', 'квартира', 'комната', 'наслать'}</td>\n",
       "      <td>{'квадратный', 'место', 'жизнь', 'выставить', ...</td>\n",
       "      <td>2</td>\n",
       "    </tr>\n",
       "    <tr>\n",
       "      <td>26228</td>\n",
       "      <td>{'рэп', 'протест', 'путин', 'наркотик', 'секс'...</td>\n",
       "      <td>{'отмена', 'искусство', 'матвиенко', 'россия',...</td>\n",
       "      <td>8</td>\n",
       "    </tr>\n",
       "  </tbody>\n",
       "</table>\n",
       "<p>26229 rows × 3 columns</p>\n",
       "</div>"
      ],
      "text/plain": [
       "                                                   title  \\\n",
       "0      {'глаз', '-летний', 'ровесница-немка', 'бежене...   \n",
       "1      {'кадыров', 'прочитать', 'новогодний', 'стихот...   \n",
       "2      {'поддержать', 'иран', 'протестовать', 'белый'...   \n",
       "3      {'пожар', 'возможный', 'причина', 'южно-сахали...   \n",
       "4      {'минимальный', 'труд', 'россиянин', 'размер',...   \n",
       "...                                                  ...   \n",
       "26224  {'раскольник', 'глава', 'митрополит', 'украинс...   \n",
       "26225  {'полиция', 'кордон', 'марсельеза', 'жилет', '...   \n",
       "26226                    {'украина', 'разбиться', 'су-'}   \n",
       "26227    {'петербург', 'квартира', 'комната', 'наслать'}   \n",
       "26228  {'рэп', 'протест', 'путин', 'наркотик', 'секс'...   \n",
       "\n",
       "                                                    text  tags  \n",
       "0      {'афганец', 'изнасиловать', 'произойти', 'сооб...     6  \n",
       "1      {'чеченский', 'напомнить', 'великий', 'присвои...     8  \n",
       "2      {'общаться', 'демонстрант', 'популярный', 'реш...     8  \n",
       "3      {'прибыть', 'пресс-служба', 'пожарный', 'место...     6  \n",
       "4      {'закон', 'минимальный', 'путин', 'процент', '...     0  \n",
       "...                                                  ...   ...  \n",
       "26224  {'раскольник', 'пётр', 'сообщаться', 'решение'...    11  \n",
       "26225  {'столкновение', 'гарние', 'мусорный', 'отстав...     9  \n",
       "26226  {'лётчик', 'пресс-служба', 'сша', 'произойти',...    11  \n",
       "26227  {'квадратный', 'место', 'жизнь', 'выставить', ...     2  \n",
       "26228  {'отмена', 'искусство', 'матвиенко', 'россия',...     8  \n",
       "\n",
       "[26229 rows x 3 columns]"
      ]
     },
     "execution_count": 7,
     "metadata": {},
     "output_type": "execute_result"
    }
   ],
   "source": [
    "df"
   ]
  },
  {
   "cell_type": "code",
   "execution_count": 6,
   "metadata": {},
   "outputs": [],
   "source": [
    "from sklearn.feature_extraction.text import TfidfVectorizer"
   ]
  },
  {
   "cell_type": "code",
   "execution_count": 7,
   "metadata": {},
   "outputs": [],
   "source": [
    "answer = []\n",
    "def get_title_corpus(title):\n",
    "    answer.append(' '.join(re.findall(r'[а-я-]+', title)))"
   ]
  },
  {
   "cell_type": "code",
   "execution_count": 8,
   "metadata": {},
   "outputs": [],
   "source": [
    "for title in df.title:\n",
    "    get_title_corpus(title)"
   ]
  },
  {
   "cell_type": "code",
   "execution_count": 9,
   "metadata": {},
   "outputs": [
    {
     "name": "stdout",
     "output_type": "stream",
     "text": [
      "CPU times: user 296 ms, sys: 14.1 ms, total: 310 ms\n",
      "Wall time: 310 ms\n"
     ]
    }
   ],
   "source": [
    "%%time\n",
    "tfidf = TfidfVectorizer()\n",
    "title_tfidf = tfidf.fit_transform(answer)"
   ]
  },
  {
   "cell_type": "code",
   "execution_count": 10,
   "metadata": {},
   "outputs": [],
   "source": [
    "feature_names = tfidf.get_feature_names()\n",
    "corpus_index = [n for n in answer]"
   ]
  },
  {
   "cell_type": "code",
   "execution_count": 11,
   "metadata": {},
   "outputs": [
    {
     "data": {
      "text/html": [
       "<div>\n",
       "<style scoped>\n",
       "    .dataframe tbody tr th:only-of-type {\n",
       "        vertical-align: middle;\n",
       "    }\n",
       "\n",
       "    .dataframe tbody tr th {\n",
       "        vertical-align: top;\n",
       "    }\n",
       "\n",
       "    .dataframe thead th {\n",
       "        text-align: right;\n",
       "    }\n",
       "</style>\n",
       "<table border=\"1\" class=\"dataframe\">\n",
       "  <thead>\n",
       "    <tr style=\"text-align: right;\">\n",
       "      <th></th>\n",
       "      <th>абашидзе</th>\n",
       "      <th>аббас</th>\n",
       "      <th>абдулатипов</th>\n",
       "      <th>абитуриент</th>\n",
       "      <th>абонемент</th>\n",
       "      <th>абордаж</th>\n",
       "      <th>аборт</th>\n",
       "      <th>абрамович</th>\n",
       "      <th>абрамс</th>\n",
       "      <th>абсолютно</th>\n",
       "      <th>...</th>\n",
       "      <th>ярый</th>\n",
       "      <th>ясность</th>\n",
       "      <th>ястреб</th>\n",
       "      <th>яхта</th>\n",
       "      <th>яхтсмен</th>\n",
       "      <th>яценюк</th>\n",
       "      <th>ячейка</th>\n",
       "      <th>яшин</th>\n",
       "      <th>ящерица</th>\n",
       "      <th>ящик</th>\n",
       "    </tr>\n",
       "  </thead>\n",
       "  <tbody>\n",
       "    <tr>\n",
       "      <td>глаз -летний ровесница-немка беженец зарезать</td>\n",
       "      <td>0.0</td>\n",
       "      <td>0.0</td>\n",
       "      <td>0.0</td>\n",
       "      <td>0.0</td>\n",
       "      <td>0.0</td>\n",
       "      <td>0.0</td>\n",
       "      <td>0.0</td>\n",
       "      <td>0.0</td>\n",
       "      <td>0.0</td>\n",
       "      <td>0.0</td>\n",
       "      <td>...</td>\n",
       "      <td>0.0</td>\n",
       "      <td>0.0</td>\n",
       "      <td>0.0</td>\n",
       "      <td>0.0</td>\n",
       "      <td>0.0</td>\n",
       "      <td>0.0</td>\n",
       "      <td>0.0</td>\n",
       "      <td>0.0</td>\n",
       "      <td>0.0</td>\n",
       "      <td>0.0</td>\n",
       "    </tr>\n",
       "    <tr>\n",
       "      <td>кадыров прочитать новогодний стихотворение</td>\n",
       "      <td>0.0</td>\n",
       "      <td>0.0</td>\n",
       "      <td>0.0</td>\n",
       "      <td>0.0</td>\n",
       "      <td>0.0</td>\n",
       "      <td>0.0</td>\n",
       "      <td>0.0</td>\n",
       "      <td>0.0</td>\n",
       "      <td>0.0</td>\n",
       "      <td>0.0</td>\n",
       "      <td>...</td>\n",
       "      <td>0.0</td>\n",
       "      <td>0.0</td>\n",
       "      <td>0.0</td>\n",
       "      <td>0.0</td>\n",
       "      <td>0.0</td>\n",
       "      <td>0.0</td>\n",
       "      <td>0.0</td>\n",
       "      <td>0.0</td>\n",
       "      <td>0.0</td>\n",
       "      <td>0.0</td>\n",
       "    </tr>\n",
       "    <tr>\n",
       "      <td>поддержать иран протестовать белый дом</td>\n",
       "      <td>0.0</td>\n",
       "      <td>0.0</td>\n",
       "      <td>0.0</td>\n",
       "      <td>0.0</td>\n",
       "      <td>0.0</td>\n",
       "      <td>0.0</td>\n",
       "      <td>0.0</td>\n",
       "      <td>0.0</td>\n",
       "      <td>0.0</td>\n",
       "      <td>0.0</td>\n",
       "      <td>...</td>\n",
       "      <td>0.0</td>\n",
       "      <td>0.0</td>\n",
       "      <td>0.0</td>\n",
       "      <td>0.0</td>\n",
       "      <td>0.0</td>\n",
       "      <td>0.0</td>\n",
       "      <td>0.0</td>\n",
       "      <td>0.0</td>\n",
       "      <td>0.0</td>\n",
       "      <td>0.0</td>\n",
       "    </tr>\n",
       "    <tr>\n",
       "      <td>пожар возможный причина южно-сахалинск лка назвать уничтожить</td>\n",
       "      <td>0.0</td>\n",
       "      <td>0.0</td>\n",
       "      <td>0.0</td>\n",
       "      <td>0.0</td>\n",
       "      <td>0.0</td>\n",
       "      <td>0.0</td>\n",
       "      <td>0.0</td>\n",
       "      <td>0.0</td>\n",
       "      <td>0.0</td>\n",
       "      <td>0.0</td>\n",
       "      <td>...</td>\n",
       "      <td>0.0</td>\n",
       "      <td>0.0</td>\n",
       "      <td>0.0</td>\n",
       "      <td>0.0</td>\n",
       "      <td>0.0</td>\n",
       "      <td>0.0</td>\n",
       "      <td>0.0</td>\n",
       "      <td>0.0</td>\n",
       "      <td>0.0</td>\n",
       "      <td>0.0</td>\n",
       "    </tr>\n",
       "    <tr>\n",
       "      <td>минимальный труд россиянин размер оплата увеличиться</td>\n",
       "      <td>0.0</td>\n",
       "      <td>0.0</td>\n",
       "      <td>0.0</td>\n",
       "      <td>0.0</td>\n",
       "      <td>0.0</td>\n",
       "      <td>0.0</td>\n",
       "      <td>0.0</td>\n",
       "      <td>0.0</td>\n",
       "      <td>0.0</td>\n",
       "      <td>0.0</td>\n",
       "      <td>...</td>\n",
       "      <td>0.0</td>\n",
       "      <td>0.0</td>\n",
       "      <td>0.0</td>\n",
       "      <td>0.0</td>\n",
       "      <td>0.0</td>\n",
       "      <td>0.0</td>\n",
       "      <td>0.0</td>\n",
       "      <td>0.0</td>\n",
       "      <td>0.0</td>\n",
       "      <td>0.0</td>\n",
       "    </tr>\n",
       "    <tr>\n",
       "      <td>...</td>\n",
       "      <td>...</td>\n",
       "      <td>...</td>\n",
       "      <td>...</td>\n",
       "      <td>...</td>\n",
       "      <td>...</td>\n",
       "      <td>...</td>\n",
       "      <td>...</td>\n",
       "      <td>...</td>\n",
       "      <td>...</td>\n",
       "      <td>...</td>\n",
       "      <td>...</td>\n",
       "      <td>...</td>\n",
       "      <td>...</td>\n",
       "      <td>...</td>\n",
       "      <td>...</td>\n",
       "      <td>...</td>\n",
       "      <td>...</td>\n",
       "      <td>...</td>\n",
       "      <td>...</td>\n",
       "      <td>...</td>\n",
       "      <td>...</td>\n",
       "    </tr>\n",
       "    <tr>\n",
       "      <td>раскольник глава митрополит украинский упц захотеть сделать мятежный</td>\n",
       "      <td>0.0</td>\n",
       "      <td>0.0</td>\n",
       "      <td>0.0</td>\n",
       "      <td>0.0</td>\n",
       "      <td>0.0</td>\n",
       "      <td>0.0</td>\n",
       "      <td>0.0</td>\n",
       "      <td>0.0</td>\n",
       "      <td>0.0</td>\n",
       "      <td>0.0</td>\n",
       "      <td>...</td>\n",
       "      <td>0.0</td>\n",
       "      <td>0.0</td>\n",
       "      <td>0.0</td>\n",
       "      <td>0.0</td>\n",
       "      <td>0.0</td>\n",
       "      <td>0.0</td>\n",
       "      <td>0.0</td>\n",
       "      <td>0.0</td>\n",
       "      <td>0.0</td>\n",
       "      <td>0.0</td>\n",
       "    </tr>\n",
       "    <tr>\n",
       "      <td>полиция кордон марсельеза жилет ж лтый прорвать</td>\n",
       "      <td>0.0</td>\n",
       "      <td>0.0</td>\n",
       "      <td>0.0</td>\n",
       "      <td>0.0</td>\n",
       "      <td>0.0</td>\n",
       "      <td>0.0</td>\n",
       "      <td>0.0</td>\n",
       "      <td>0.0</td>\n",
       "      <td>0.0</td>\n",
       "      <td>0.0</td>\n",
       "      <td>...</td>\n",
       "      <td>0.0</td>\n",
       "      <td>0.0</td>\n",
       "      <td>0.0</td>\n",
       "      <td>0.0</td>\n",
       "      <td>0.0</td>\n",
       "      <td>0.0</td>\n",
       "      <td>0.0</td>\n",
       "      <td>0.0</td>\n",
       "      <td>0.0</td>\n",
       "      <td>0.0</td>\n",
       "    </tr>\n",
       "    <tr>\n",
       "      <td>украина разбиться су-</td>\n",
       "      <td>0.0</td>\n",
       "      <td>0.0</td>\n",
       "      <td>0.0</td>\n",
       "      <td>0.0</td>\n",
       "      <td>0.0</td>\n",
       "      <td>0.0</td>\n",
       "      <td>0.0</td>\n",
       "      <td>0.0</td>\n",
       "      <td>0.0</td>\n",
       "      <td>0.0</td>\n",
       "      <td>...</td>\n",
       "      <td>0.0</td>\n",
       "      <td>0.0</td>\n",
       "      <td>0.0</td>\n",
       "      <td>0.0</td>\n",
       "      <td>0.0</td>\n",
       "      <td>0.0</td>\n",
       "      <td>0.0</td>\n",
       "      <td>0.0</td>\n",
       "      <td>0.0</td>\n",
       "      <td>0.0</td>\n",
       "    </tr>\n",
       "    <tr>\n",
       "      <td>петербург квартира комната наслать</td>\n",
       "      <td>0.0</td>\n",
       "      <td>0.0</td>\n",
       "      <td>0.0</td>\n",
       "      <td>0.0</td>\n",
       "      <td>0.0</td>\n",
       "      <td>0.0</td>\n",
       "      <td>0.0</td>\n",
       "      <td>0.0</td>\n",
       "      <td>0.0</td>\n",
       "      <td>0.0</td>\n",
       "      <td>...</td>\n",
       "      <td>0.0</td>\n",
       "      <td>0.0</td>\n",
       "      <td>0.0</td>\n",
       "      <td>0.0</td>\n",
       "      <td>0.0</td>\n",
       "      <td>0.0</td>\n",
       "      <td>0.0</td>\n",
       "      <td>0.0</td>\n",
       "      <td>0.0</td>\n",
       "      <td>0.0</td>\n",
       "    </tr>\n",
       "    <tr>\n",
       "      <td>рэп протест путин наркотик секс порассуждать</td>\n",
       "      <td>0.0</td>\n",
       "      <td>0.0</td>\n",
       "      <td>0.0</td>\n",
       "      <td>0.0</td>\n",
       "      <td>0.0</td>\n",
       "      <td>0.0</td>\n",
       "      <td>0.0</td>\n",
       "      <td>0.0</td>\n",
       "      <td>0.0</td>\n",
       "      <td>0.0</td>\n",
       "      <td>...</td>\n",
       "      <td>0.0</td>\n",
       "      <td>0.0</td>\n",
       "      <td>0.0</td>\n",
       "      <td>0.0</td>\n",
       "      <td>0.0</td>\n",
       "      <td>0.0</td>\n",
       "      <td>0.0</td>\n",
       "      <td>0.0</td>\n",
       "      <td>0.0</td>\n",
       "      <td>0.0</td>\n",
       "    </tr>\n",
       "  </tbody>\n",
       "</table>\n",
       "<p>26229 rows × 15796 columns</p>\n",
       "</div>"
      ],
      "text/plain": [
       "                                                    абашидзе  аббас  \\\n",
       "глаз -летний ровесница-немка беженец зарезать            0.0    0.0   \n",
       "кадыров прочитать новогодний стихотворение               0.0    0.0   \n",
       "поддержать иран протестовать белый дом                   0.0    0.0   \n",
       "пожар возможный причина южно-сахалинск лка назв...       0.0    0.0   \n",
       "минимальный труд россиянин размер оплата увелич...       0.0    0.0   \n",
       "...                                                      ...    ...   \n",
       "раскольник глава митрополит украинский упц захо...       0.0    0.0   \n",
       "полиция кордон марсельеза жилет ж лтый прорвать          0.0    0.0   \n",
       "украина разбиться су-                                    0.0    0.0   \n",
       "петербург квартира комната наслать                       0.0    0.0   \n",
       "рэп протест путин наркотик секс порассуждать             0.0    0.0   \n",
       "\n",
       "                                                    абдулатипов  абитуриент  \\\n",
       "глаз -летний ровесница-немка беженец зарезать               0.0         0.0   \n",
       "кадыров прочитать новогодний стихотворение                  0.0         0.0   \n",
       "поддержать иран протестовать белый дом                      0.0         0.0   \n",
       "пожар возможный причина южно-сахалинск лка назв...          0.0         0.0   \n",
       "минимальный труд россиянин размер оплата увелич...          0.0         0.0   \n",
       "...                                                         ...         ...   \n",
       "раскольник глава митрополит украинский упц захо...          0.0         0.0   \n",
       "полиция кордон марсельеза жилет ж лтый прорвать             0.0         0.0   \n",
       "украина разбиться су-                                       0.0         0.0   \n",
       "петербург квартира комната наслать                          0.0         0.0   \n",
       "рэп протест путин наркотик секс порассуждать                0.0         0.0   \n",
       "\n",
       "                                                    абонемент  абордаж  аборт  \\\n",
       "глаз -летний ровесница-немка беженец зарезать             0.0      0.0    0.0   \n",
       "кадыров прочитать новогодний стихотворение                0.0      0.0    0.0   \n",
       "поддержать иран протестовать белый дом                    0.0      0.0    0.0   \n",
       "пожар возможный причина южно-сахалинск лка назв...        0.0      0.0    0.0   \n",
       "минимальный труд россиянин размер оплата увелич...        0.0      0.0    0.0   \n",
       "...                                                       ...      ...    ...   \n",
       "раскольник глава митрополит украинский упц захо...        0.0      0.0    0.0   \n",
       "полиция кордон марсельеза жилет ж лтый прорвать           0.0      0.0    0.0   \n",
       "украина разбиться су-                                     0.0      0.0    0.0   \n",
       "петербург квартира комната наслать                        0.0      0.0    0.0   \n",
       "рэп протест путин наркотик секс порассуждать              0.0      0.0    0.0   \n",
       "\n",
       "                                                    абрамович  абрамс  \\\n",
       "глаз -летний ровесница-немка беженец зарезать             0.0     0.0   \n",
       "кадыров прочитать новогодний стихотворение                0.0     0.0   \n",
       "поддержать иран протестовать белый дом                    0.0     0.0   \n",
       "пожар возможный причина южно-сахалинск лка назв...        0.0     0.0   \n",
       "минимальный труд россиянин размер оплата увелич...        0.0     0.0   \n",
       "...                                                       ...     ...   \n",
       "раскольник глава митрополит украинский упц захо...        0.0     0.0   \n",
       "полиция кордон марсельеза жилет ж лтый прорвать           0.0     0.0   \n",
       "украина разбиться су-                                     0.0     0.0   \n",
       "петербург квартира комната наслать                        0.0     0.0   \n",
       "рэп протест путин наркотик секс порассуждать              0.0     0.0   \n",
       "\n",
       "                                                    абсолютно  ...  ярый  \\\n",
       "глаз -летний ровесница-немка беженец зарезать             0.0  ...   0.0   \n",
       "кадыров прочитать новогодний стихотворение                0.0  ...   0.0   \n",
       "поддержать иран протестовать белый дом                    0.0  ...   0.0   \n",
       "пожар возможный причина южно-сахалинск лка назв...        0.0  ...   0.0   \n",
       "минимальный труд россиянин размер оплата увелич...        0.0  ...   0.0   \n",
       "...                                                       ...  ...   ...   \n",
       "раскольник глава митрополит украинский упц захо...        0.0  ...   0.0   \n",
       "полиция кордон марсельеза жилет ж лтый прорвать           0.0  ...   0.0   \n",
       "украина разбиться су-                                     0.0  ...   0.0   \n",
       "петербург квартира комната наслать                        0.0  ...   0.0   \n",
       "рэп протест путин наркотик секс порассуждать              0.0  ...   0.0   \n",
       "\n",
       "                                                    ясность  ястреб  яхта  \\\n",
       "глаз -летний ровесница-немка беженец зарезать           0.0     0.0   0.0   \n",
       "кадыров прочитать новогодний стихотворение              0.0     0.0   0.0   \n",
       "поддержать иран протестовать белый дом                  0.0     0.0   0.0   \n",
       "пожар возможный причина южно-сахалинск лка назв...      0.0     0.0   0.0   \n",
       "минимальный труд россиянин размер оплата увелич...      0.0     0.0   0.0   \n",
       "...                                                     ...     ...   ...   \n",
       "раскольник глава митрополит украинский упц захо...      0.0     0.0   0.0   \n",
       "полиция кордон марсельеза жилет ж лтый прорвать         0.0     0.0   0.0   \n",
       "украина разбиться су-                                   0.0     0.0   0.0   \n",
       "петербург квартира комната наслать                      0.0     0.0   0.0   \n",
       "рэп протест путин наркотик секс порассуждать            0.0     0.0   0.0   \n",
       "\n",
       "                                                    яхтсмен  яценюк  ячейка  \\\n",
       "глаз -летний ровесница-немка беженец зарезать           0.0     0.0     0.0   \n",
       "кадыров прочитать новогодний стихотворение              0.0     0.0     0.0   \n",
       "поддержать иран протестовать белый дом                  0.0     0.0     0.0   \n",
       "пожар возможный причина южно-сахалинск лка назв...      0.0     0.0     0.0   \n",
       "минимальный труд россиянин размер оплата увелич...      0.0     0.0     0.0   \n",
       "...                                                     ...     ...     ...   \n",
       "раскольник глава митрополит украинский упц захо...      0.0     0.0     0.0   \n",
       "полиция кордон марсельеза жилет ж лтый прорвать         0.0     0.0     0.0   \n",
       "украина разбиться су-                                   0.0     0.0     0.0   \n",
       "петербург квартира комната наслать                      0.0     0.0     0.0   \n",
       "рэп протест путин наркотик секс порассуждать            0.0     0.0     0.0   \n",
       "\n",
       "                                                    яшин  ящерица  ящик  \n",
       "глаз -летний ровесница-немка беженец зарезать        0.0      0.0   0.0  \n",
       "кадыров прочитать новогодний стихотворение           0.0      0.0   0.0  \n",
       "поддержать иран протестовать белый дом               0.0      0.0   0.0  \n",
       "пожар возможный причина южно-сахалинск лка назв...   0.0      0.0   0.0  \n",
       "минимальный труд россиянин размер оплата увелич...   0.0      0.0   0.0  \n",
       "...                                                  ...      ...   ...  \n",
       "раскольник глава митрополит украинский упц захо...   0.0      0.0   0.0  \n",
       "полиция кордон марсельеза жилет ж лтый прорвать      0.0      0.0   0.0  \n",
       "украина разбиться су-                                0.0      0.0   0.0  \n",
       "петербург квартира комната наслать                   0.0      0.0   0.0  \n",
       "рэп протест путин наркотик секс порассуждать         0.0      0.0   0.0  \n",
       "\n",
       "[26229 rows x 15796 columns]"
      ]
     },
     "execution_count": 11,
     "metadata": {},
     "output_type": "execute_result"
    }
   ],
   "source": [
    "df_tfidf = pd.DataFrame(title_tfidf.todense(), index=corpus_index, columns=feature_names)\n",
    "df_tfidf"
   ]
  },
  {
   "cell_type": "markdown",
   "metadata": {},
   "source": [
    "Разделим датасет на тестовую и обучающую выборки."
   ]
  },
  {
   "cell_type": "code",
   "execution_count": 12,
   "metadata": {},
   "outputs": [],
   "source": [
    "x = df_tfidf\n",
    "y = df.tags"
   ]
  },
  {
   "cell_type": "code",
   "execution_count": 13,
   "metadata": {},
   "outputs": [],
   "source": [
    "x.index = df.index"
   ]
  },
  {
   "cell_type": "code",
   "execution_count": 16,
   "metadata": {},
   "outputs": [
    {
     "data": {
      "text/html": [
       "<div>\n",
       "<style scoped>\n",
       "    .dataframe tbody tr th:only-of-type {\n",
       "        vertical-align: middle;\n",
       "    }\n",
       "\n",
       "    .dataframe tbody tr th {\n",
       "        vertical-align: top;\n",
       "    }\n",
       "\n",
       "    .dataframe thead th {\n",
       "        text-align: right;\n",
       "    }\n",
       "</style>\n",
       "<table border=\"1\" class=\"dataframe\">\n",
       "  <thead>\n",
       "    <tr style=\"text-align: right;\">\n",
       "      <th></th>\n",
       "      <th>абашидзе</th>\n",
       "      <th>аббас</th>\n",
       "      <th>абдулатипов</th>\n",
       "      <th>абитуриент</th>\n",
       "      <th>абонемент</th>\n",
       "      <th>абордаж</th>\n",
       "      <th>аборт</th>\n",
       "      <th>абрамович</th>\n",
       "      <th>абрамс</th>\n",
       "      <th>абсолютно</th>\n",
       "      <th>...</th>\n",
       "      <th>ярый</th>\n",
       "      <th>ясность</th>\n",
       "      <th>ястреб</th>\n",
       "      <th>яхта</th>\n",
       "      <th>яхтсмен</th>\n",
       "      <th>яценюк</th>\n",
       "      <th>ячейка</th>\n",
       "      <th>яшин</th>\n",
       "      <th>ящерица</th>\n",
       "      <th>ящик</th>\n",
       "    </tr>\n",
       "  </thead>\n",
       "  <tbody>\n",
       "    <tr>\n",
       "      <td>0</td>\n",
       "      <td>0.0</td>\n",
       "      <td>0.0</td>\n",
       "      <td>0.0</td>\n",
       "      <td>0.0</td>\n",
       "      <td>0.0</td>\n",
       "      <td>0.0</td>\n",
       "      <td>0.0</td>\n",
       "      <td>0.0</td>\n",
       "      <td>0.0</td>\n",
       "      <td>0.0</td>\n",
       "      <td>...</td>\n",
       "      <td>0.0</td>\n",
       "      <td>0.0</td>\n",
       "      <td>0.0</td>\n",
       "      <td>0.0</td>\n",
       "      <td>0.0</td>\n",
       "      <td>0.0</td>\n",
       "      <td>0.0</td>\n",
       "      <td>0.0</td>\n",
       "      <td>0.0</td>\n",
       "      <td>0.0</td>\n",
       "    </tr>\n",
       "    <tr>\n",
       "      <td>1</td>\n",
       "      <td>0.0</td>\n",
       "      <td>0.0</td>\n",
       "      <td>0.0</td>\n",
       "      <td>0.0</td>\n",
       "      <td>0.0</td>\n",
       "      <td>0.0</td>\n",
       "      <td>0.0</td>\n",
       "      <td>0.0</td>\n",
       "      <td>0.0</td>\n",
       "      <td>0.0</td>\n",
       "      <td>...</td>\n",
       "      <td>0.0</td>\n",
       "      <td>0.0</td>\n",
       "      <td>0.0</td>\n",
       "      <td>0.0</td>\n",
       "      <td>0.0</td>\n",
       "      <td>0.0</td>\n",
       "      <td>0.0</td>\n",
       "      <td>0.0</td>\n",
       "      <td>0.0</td>\n",
       "      <td>0.0</td>\n",
       "    </tr>\n",
       "    <tr>\n",
       "      <td>2</td>\n",
       "      <td>0.0</td>\n",
       "      <td>0.0</td>\n",
       "      <td>0.0</td>\n",
       "      <td>0.0</td>\n",
       "      <td>0.0</td>\n",
       "      <td>0.0</td>\n",
       "      <td>0.0</td>\n",
       "      <td>0.0</td>\n",
       "      <td>0.0</td>\n",
       "      <td>0.0</td>\n",
       "      <td>...</td>\n",
       "      <td>0.0</td>\n",
       "      <td>0.0</td>\n",
       "      <td>0.0</td>\n",
       "      <td>0.0</td>\n",
       "      <td>0.0</td>\n",
       "      <td>0.0</td>\n",
       "      <td>0.0</td>\n",
       "      <td>0.0</td>\n",
       "      <td>0.0</td>\n",
       "      <td>0.0</td>\n",
       "    </tr>\n",
       "    <tr>\n",
       "      <td>3</td>\n",
       "      <td>0.0</td>\n",
       "      <td>0.0</td>\n",
       "      <td>0.0</td>\n",
       "      <td>0.0</td>\n",
       "      <td>0.0</td>\n",
       "      <td>0.0</td>\n",
       "      <td>0.0</td>\n",
       "      <td>0.0</td>\n",
       "      <td>0.0</td>\n",
       "      <td>0.0</td>\n",
       "      <td>...</td>\n",
       "      <td>0.0</td>\n",
       "      <td>0.0</td>\n",
       "      <td>0.0</td>\n",
       "      <td>0.0</td>\n",
       "      <td>0.0</td>\n",
       "      <td>0.0</td>\n",
       "      <td>0.0</td>\n",
       "      <td>0.0</td>\n",
       "      <td>0.0</td>\n",
       "      <td>0.0</td>\n",
       "    </tr>\n",
       "    <tr>\n",
       "      <td>4</td>\n",
       "      <td>0.0</td>\n",
       "      <td>0.0</td>\n",
       "      <td>0.0</td>\n",
       "      <td>0.0</td>\n",
       "      <td>0.0</td>\n",
       "      <td>0.0</td>\n",
       "      <td>0.0</td>\n",
       "      <td>0.0</td>\n",
       "      <td>0.0</td>\n",
       "      <td>0.0</td>\n",
       "      <td>...</td>\n",
       "      <td>0.0</td>\n",
       "      <td>0.0</td>\n",
       "      <td>0.0</td>\n",
       "      <td>0.0</td>\n",
       "      <td>0.0</td>\n",
       "      <td>0.0</td>\n",
       "      <td>0.0</td>\n",
       "      <td>0.0</td>\n",
       "      <td>0.0</td>\n",
       "      <td>0.0</td>\n",
       "    </tr>\n",
       "  </tbody>\n",
       "</table>\n",
       "<p>5 rows × 15796 columns</p>\n",
       "</div>"
      ],
      "text/plain": [
       "   абашидзе  аббас  абдулатипов  абитуриент  абонемент  абордаж  аборт  \\\n",
       "0       0.0    0.0          0.0         0.0        0.0      0.0    0.0   \n",
       "1       0.0    0.0          0.0         0.0        0.0      0.0    0.0   \n",
       "2       0.0    0.0          0.0         0.0        0.0      0.0    0.0   \n",
       "3       0.0    0.0          0.0         0.0        0.0      0.0    0.0   \n",
       "4       0.0    0.0          0.0         0.0        0.0      0.0    0.0   \n",
       "\n",
       "   абрамович  абрамс  абсолютно  ...  ярый  ясность  ястреб  яхта  яхтсмен  \\\n",
       "0        0.0     0.0        0.0  ...   0.0      0.0     0.0   0.0      0.0   \n",
       "1        0.0     0.0        0.0  ...   0.0      0.0     0.0   0.0      0.0   \n",
       "2        0.0     0.0        0.0  ...   0.0      0.0     0.0   0.0      0.0   \n",
       "3        0.0     0.0        0.0  ...   0.0      0.0     0.0   0.0      0.0   \n",
       "4        0.0     0.0        0.0  ...   0.0      0.0     0.0   0.0      0.0   \n",
       "\n",
       "   яценюк  ячейка  яшин  ящерица  ящик  \n",
       "0     0.0     0.0   0.0      0.0   0.0  \n",
       "1     0.0     0.0   0.0      0.0   0.0  \n",
       "2     0.0     0.0   0.0      0.0   0.0  \n",
       "3     0.0     0.0   0.0      0.0   0.0  \n",
       "4     0.0     0.0   0.0      0.0   0.0  \n",
       "\n",
       "[5 rows x 15796 columns]"
      ]
     },
     "execution_count": 16,
     "metadata": {},
     "output_type": "execute_result"
    }
   ],
   "source": [
    "x.head()"
   ]
  },
  {
   "cell_type": "code",
   "execution_count": 14,
   "metadata": {},
   "outputs": [],
   "source": [
    "from sklearn.model_selection import train_test_split\n",
    "x_train, x_test, y_train, y_test = train_test_split(x, y, test_size=0.33, random_state=42)"
   ]
  },
  {
   "cell_type": "code",
   "execution_count": 82,
   "metadata": {},
   "outputs": [],
   "source": [
    "from sklearn.tree import DecisionTreeClassifier\n",
    "dtc = DecisionTreeClassifier()"
   ]
  },
  {
   "cell_type": "code",
   "execution_count": 83,
   "metadata": {},
   "outputs": [
    {
     "name": "stdout",
     "output_type": "stream",
     "text": [
      "CPU times: user 8min 23s, sys: 1.62 s, total: 8min 24s\n",
      "Wall time: 8min 25s\n"
     ]
    },
    {
     "data": {
      "text/plain": [
       "DecisionTreeClassifier()"
      ]
     },
     "execution_count": 83,
     "metadata": {},
     "output_type": "execute_result"
    }
   ],
   "source": [
    "%%time\n",
    "dtc.fit(x_train, y_train)"
   ]
  },
  {
   "cell_type": "code",
   "execution_count": 84,
   "metadata": {},
   "outputs": [
    {
     "data": {
      "text/plain": [
       "0.5747458410351202"
      ]
     },
     "execution_count": 84,
     "metadata": {},
     "output_type": "execute_result"
    }
   ],
   "source": [
    "dtc.score(x_test, y_test)"
   ]
  },
  {
   "cell_type": "code",
   "execution_count": 59,
   "metadata": {},
   "outputs": [],
   "source": [
    "from sklearn.linear_model import LogisticRegression\n",
    "\n",
    "log_reg = LogisticRegression()"
   ]
  },
  {
   "cell_type": "code",
   "execution_count": 60,
   "metadata": {},
   "outputs": [
    {
     "name": "stdout",
     "output_type": "stream",
     "text": [
      "CPU times: user 2min 56s, sys: 1.4 s, total: 2min 58s\n",
      "Wall time: 45.7 s\n"
     ]
    },
    {
     "data": {
      "text/plain": [
       "LogisticRegression()"
      ]
     },
     "execution_count": 60,
     "metadata": {},
     "output_type": "execute_result"
    }
   ],
   "source": [
    "%%time\n",
    "log_reg.fit(x_train, y_train)"
   ]
  },
  {
   "cell_type": "code",
   "execution_count": 61,
   "metadata": {},
   "outputs": [
    {
     "data": {
      "text/plain": [
       "0.6879621072088724"
      ]
     },
     "execution_count": 61,
     "metadata": {},
     "output_type": "execute_result"
    }
   ],
   "source": [
    "log_reg.score(x_test, y_test)"
   ]
  },
  {
   "cell_type": "code",
   "execution_count": 62,
   "metadata": {},
   "outputs": [],
   "source": [
    "from sklearn.linear_model import SGDClassifier\n",
    "sgdc = SGDClassifier()"
   ]
  },
  {
   "cell_type": "code",
   "execution_count": 63,
   "metadata": {},
   "outputs": [
    {
     "name": "stdout",
     "output_type": "stream",
     "text": [
      "CPU times: user 1min 6s, sys: 579 ms, total: 1min 7s\n",
      "Wall time: 1min 1s\n"
     ]
    },
    {
     "data": {
      "text/plain": [
       "SGDClassifier()"
      ]
     },
     "execution_count": 63,
     "metadata": {},
     "output_type": "execute_result"
    }
   ],
   "source": [
    "%%time\n",
    "sgdc.fit(x_train, y_train)"
   ]
  },
  {
   "cell_type": "code",
   "execution_count": 64,
   "metadata": {},
   "outputs": [
    {
     "data": {
      "text/plain": [
       "0.708641404805915"
      ]
     },
     "execution_count": 64,
     "metadata": {},
     "output_type": "execute_result"
    }
   ],
   "source": [
    "sgdc.score(x_test, y_test)"
   ]
  },
  {
   "cell_type": "code",
   "execution_count": 66,
   "metadata": {},
   "outputs": [],
   "source": [
    "from sklearn.ensemble import RandomForestClassifier\n",
    "rfc = RandomForestClassifier()"
   ]
  },
  {
   "cell_type": "code",
   "execution_count": 67,
   "metadata": {},
   "outputs": [
    {
     "name": "stdout",
     "output_type": "stream",
     "text": [
      "CPU times: user 8min 13s, sys: 1.79 s, total: 8min 15s\n",
      "Wall time: 8min 16s\n"
     ]
    },
    {
     "data": {
      "text/plain": [
       "RandomForestClassifier()"
      ]
     },
     "execution_count": 67,
     "metadata": {},
     "output_type": "execute_result"
    }
   ],
   "source": [
    "%%time\n",
    "rfc.fit(x_train, y_train)"
   ]
  },
  {
   "cell_type": "code",
   "execution_count": 68,
   "metadata": {},
   "outputs": [
    {
     "data": {
      "text/plain": [
       "0.6548059149722736"
      ]
     },
     "execution_count": 68,
     "metadata": {},
     "output_type": "execute_result"
    }
   ],
   "source": [
    "rfc.score(x_test, y_test)"
   ]
  },
  {
   "cell_type": "code",
   "execution_count": 85,
   "metadata": {},
   "outputs": [],
   "source": [
    "from sklearn.naive_bayes import MultinomialNB\n",
    "nb = MultinomialNB()"
   ]
  },
  {
   "cell_type": "code",
   "execution_count": 86,
   "metadata": {},
   "outputs": [
    {
     "name": "stdout",
     "output_type": "stream",
     "text": [
      "CPU times: user 1.11 s, sys: 6.7 ms, total: 1.11 s\n",
      "Wall time: 575 ms\n"
     ]
    },
    {
     "data": {
      "text/plain": [
       "MultinomialNB()"
      ]
     },
     "execution_count": 86,
     "metadata": {},
     "output_type": "execute_result"
    }
   ],
   "source": [
    "%%time\n",
    "nb.fit(x_train, y_train)"
   ]
  },
  {
   "cell_type": "code",
   "execution_count": 87,
   "metadata": {},
   "outputs": [
    {
     "data": {
      "text/plain": [
       "0.5481746765249538"
      ]
     },
     "execution_count": 87,
     "metadata": {},
     "output_type": "execute_result"
    }
   ],
   "source": [
    "nb.score(x_test, y_test)"
   ]
  },
  {
   "cell_type": "code",
   "execution_count": 88,
   "metadata": {},
   "outputs": [],
   "source": [
    "from sklearn.linear_model import PassiveAggressiveClassifier\n",
    "pac = PassiveAggressiveClassifier()"
   ]
  },
  {
   "cell_type": "code",
   "execution_count": 89,
   "metadata": {},
   "outputs": [
    {
     "name": "stdout",
     "output_type": "stream",
     "text": [
      "CPU times: user 2min 53s, sys: 524 ms, total: 2min 53s\n",
      "Wall time: 2min 46s\n"
     ]
    },
    {
     "data": {
      "text/plain": [
       "PassiveAggressiveClassifier()"
      ]
     },
     "execution_count": 89,
     "metadata": {},
     "output_type": "execute_result"
    }
   ],
   "source": [
    "%%time\n",
    "pac.fit(x_train, y_train)"
   ]
  },
  {
   "cell_type": "code",
   "execution_count": 90,
   "metadata": {},
   "outputs": [
    {
     "data": {
      "text/plain": [
       "0.6652033271719039"
      ]
     },
     "execution_count": 90,
     "metadata": {},
     "output_type": "execute_result"
    }
   ],
   "source": [
    "pac.score(x_test, y_test)"
   ]
  },
  {
   "cell_type": "code",
   "execution_count": 16,
   "metadata": {},
   "outputs": [],
   "source": [
    "from sklearn.svm import LinearSVC\n",
    "lsvc = LinearSVC()"
   ]
  },
  {
   "cell_type": "code",
   "execution_count": 93,
   "metadata": {},
   "outputs": [
    {
     "name": "stdout",
     "output_type": "stream",
     "text": [
      "CPU times: user 1.57 s, sys: 10.4 ms, total: 1.58 s\n",
      "Wall time: 1.59 s\n"
     ]
    },
    {
     "data": {
      "text/plain": [
       "LinearSVC()"
      ]
     },
     "execution_count": 93,
     "metadata": {},
     "output_type": "execute_result"
    }
   ],
   "source": [
    "%%time\n",
    "lsvc.fit(x_train, y_train)"
   ]
  },
  {
   "cell_type": "code",
   "execution_count": 94,
   "metadata": {},
   "outputs": [
    {
     "data": {
      "text/plain": [
       "0.7115295748613678"
      ]
     },
     "execution_count": 94,
     "metadata": {},
     "output_type": "execute_result"
    }
   ],
   "source": [
    "lsvc.score(x_test, y_test)"
   ]
  },
  {
   "cell_type": "code",
   "execution_count": 17,
   "metadata": {},
   "outputs": [],
   "source": [
    "from sklearn.ensemble import BaggingClassifier\n",
    "bc = BaggingClassifier(base_estimator=LinearSVC(), n_estimators=10, n_jobs=-1)"
   ]
  },
  {
   "cell_type": "code",
   "execution_count": 18,
   "metadata": {},
   "outputs": [
    {
     "name": "stdout",
     "output_type": "stream",
     "text": [
      "CPU times: user 1.82 s, sys: 5.88 s, total: 7.7 s\n",
      "Wall time: 3min 52s\n"
     ]
    },
    {
     "data": {
      "text/plain": [
       "BaggingClassifier(base_estimator=LinearSVC(), n_jobs=-1)"
      ]
     },
     "execution_count": 18,
     "metadata": {},
     "output_type": "execute_result"
    }
   ],
   "source": [
    "%%time\n",
    "bc.fit(x_train, y_train)"
   ]
  },
  {
   "cell_type": "code",
   "execution_count": 20,
   "metadata": {},
   "outputs": [
    {
     "data": {
      "text/plain": [
       "0.7128003696857671"
      ]
     },
     "execution_count": 20,
     "metadata": {},
     "output_type": "execute_result"
    }
   ],
   "source": [
    "bc.score(x_test, y_test)"
   ]
  },
  {
   "cell_type": "code",
   "execution_count": null,
   "metadata": {},
   "outputs": [],
   "source": [
    "from sklearn.svm import LinearSVC\n",
    "from sklearn.model_selection import GridSearchCV\n",
    "\n",
    "lsvc = LinearSVC()\n",
    "\n",
    "# Gridsearch to determine the value of C\n",
    "param_grid = {'SVC__C':np.arange(0.01,100,10)}\n",
    "linearSVC = GridSearchCV(SVCpipe,param_grid,cv=5,return_train_score=True)\n",
    "linearSVC.fit(X_train,y_train)\n",
    "print(linearSVC.best_params_)\n",
    "#linearSVC.coef_\n",
    "#linearSVC.intercept_\n",
    "\n",
    "bestlinearSVC = linearSVC.best_estimator_\n",
    "bestlinearSVC.fit(X_train,y_train)\n",
    "bestlinearSVC.coef_ = bestlinearSVC.named_steps['SVC'].coef_\n",
    "bestlinearSVC.score(X_train,y_train)"
   ]
  },
  {
   "cell_type": "code",
   "execution_count": 54,
   "metadata": {},
   "outputs": [],
   "source": [
    "from sklearn.svm import LinearSVC\n",
    "from sklearn.model_selection import GridSearchCV\n",
    "\n",
    "lsvc = LinearSVC()\n",
    "\n",
    "param_grid = {'C': np.arange(0.01,1,0.1), 'loss': ['hinge', 'squared_hinge'], 'max_iter': [1000, 2000]}\n",
    "linearSVC = GridSearchCV(lsvc, param_grid, scoring='accuracy')"
   ]
  },
  {
   "cell_type": "code",
   "execution_count": 55,
   "metadata": {},
   "outputs": [
    {
     "name": "stdout",
     "output_type": "stream",
     "text": [
      "CPU times: user 10min 12s, sys: 3min 11s, total: 13min 24s\n",
      "Wall time: 11min 15s\n"
     ]
    },
    {
     "data": {
      "text/plain": [
       "GridSearchCV(estimator=LinearSVC(),\n",
       "             param_grid={'C': array([0.01, 0.11, 0.21, 0.31, 0.41, 0.51, 0.61, 0.71, 0.81, 0.91]),\n",
       "                         'loss': ['hinge', 'squared_hinge'],\n",
       "                         'max_iter': [1000, 2000]},\n",
       "             scoring='accuracy')"
      ]
     },
     "execution_count": 55,
     "metadata": {},
     "output_type": "execute_result"
    }
   ],
   "source": [
    "%%time\n",
    "linearSVC.fit(x_train, y_train)"
   ]
  },
  {
   "cell_type": "code",
   "execution_count": 65,
   "metadata": {},
   "outputs": [
    {
     "data": {
      "text/plain": [
       "{'C': 0.51, 'loss': 'squared_hinge', 'max_iter': 1000}"
      ]
     },
     "execution_count": 65,
     "metadata": {},
     "output_type": "execute_result"
    }
   ],
   "source": [
    "bestlinearSVC = linearSVC.best_params_\n",
    "bestlinearSVC"
   ]
  },
  {
   "cell_type": "code",
   "execution_count": 67,
   "metadata": {},
   "outputs": [],
   "source": [
    "from sklearn.svm import LinearSVC\n",
    "lsvc = LinearSVC(C=0.51, loss='squared_hinge', max_iter=1000)"
   ]
  },
  {
   "cell_type": "code",
   "execution_count": 68,
   "metadata": {},
   "outputs": [
    {
     "data": {
      "text/plain": [
       "LinearSVC(C=0.51)"
      ]
     },
     "execution_count": 68,
     "metadata": {},
     "output_type": "execute_result"
    }
   ],
   "source": [
    "lsvc.fit(x_train,y_train)"
   ]
  },
  {
   "cell_type": "code",
   "execution_count": 69,
   "metadata": {},
   "outputs": [
    {
     "data": {
      "text/plain": [
       "0.717652495378928"
      ]
     },
     "execution_count": 69,
     "metadata": {},
     "output_type": "execute_result"
    }
   ],
   "source": [
    "lsvc.score(x_test, y_test)"
   ]
  },
  {
   "cell_type": "code",
   "execution_count": 70,
   "metadata": {},
   "outputs": [],
   "source": [
    "from sklearn.metrics import accuracy_score, precision_score, recall_score, f1_score, classification_report, log_loss"
   ]
  },
  {
   "cell_type": "code",
   "execution_count": 79,
   "metadata": {},
   "outputs": [
    {
     "name": "stdout",
     "output_type": "stream",
     "text": [
      "Precision:   0.74\n",
      "Recall:   0.71\n",
      "F1-measure:   0.72\n",
      "Accuracy:   0.72\n",
      "              precision    recall  f1-score   support\n",
      "\n",
      "           0       0.75      0.73      0.74       662\n",
      "           1       0.74      0.65      0.69       622\n",
      "           2       0.93      0.85      0.89       375\n",
      "           3       0.84      0.82      0.83       392\n",
      "           4       0.55      0.41      0.47       368\n",
      "           5       0.85      0.75      0.80       360\n",
      "           6       0.52      0.54      0.53      1278\n",
      "           7       0.79      0.66      0.72       325\n",
      "           8       0.72      0.82      0.77      1602\n",
      "           9       0.58      0.59      0.58       789\n",
      "          10       0.64      0.56      0.60       383\n",
      "          11       0.81      0.89      0.85       714\n",
      "          12       0.92      0.94      0.93       786\n",
      "\n",
      "    accuracy                           0.72      8656\n",
      "   macro avg       0.74      0.71      0.72      8656\n",
      "weighted avg       0.72      0.72      0.72      8656\n",
      "\n"
     ]
    }
   ],
   "source": [
    "y_pred = lsvc.predict(x_test)\n",
    "print(\"Precision: {0:6.2f}\".format(precision_score(y_test, y_pred, average='macro')))\n",
    "print(\"Recall: {0:6.2f}\".format(recall_score(y_test, y_pred, average='macro')))\n",
    "print(\"F1-measure: {0:6.2f}\".format(f1_score(y_test, y_pred, average='macro')))\n",
    "print(\"Accuracy: {0:6.2f}\".format(accuracy_score(y_test, y_pred)))\n",
    "print(classification_report(y_test, y_pred))"
   ]
  },
  {
   "cell_type": "code",
   "execution_count": 95,
   "metadata": {},
   "outputs": [
    {
     "data": {
      "text/plain": [
       "array(['Квартира', 'Кино', 'Музыка', 'Украина', 'Футбол'], dtype=object)"
      ]
     },
     "execution_count": 95,
     "metadata": {},
     "output_type": "execute_result"
    }
   ],
   "source": [
    "label_encoder.inverse_transform([2, 3, 5, 11, 12])"
   ]
  },
  {
   "cell_type": "code",
   "execution_count": 89,
   "metadata": {},
   "outputs": [
    {
     "data": {
      "image/png": "[encoded data removed]",
      "text/plain": [
       "<Figure size 864x432 with 2 Axes>"
      ]
     },
     "metadata": {
      "needs_background": "light"
     },
     "output_type": "display_data"
    }
   ],
   "source": [
    "from sklearn.metrics import confusion_matrix\n",
    "import seaborn as sns\n",
    "\n",
    "plt.figure(figsize=(12, 6))\n",
    "\n",
    "conf_mat = confusion_matrix(y_test, y_pred)\n",
    "ax = sns.heatmap(conf_mat, annot=True, fmt='d',\n",
    "            xticklabels=label_encoder.inverse_transform(range(13)),\n",
    "            yticklabels=label_encoder.inverse_transform(range(13)))\n",
    "i, k = ax.get_ylim()\n",
    "ax.set_ylim(i+0.5, k-0.5)\n",
    "plt.ylabel('Actual')\n",
    "plt.xlabel('Predicted')\n",
    "plt.show()"
   ]
  },
  {
   "cell_type": "code",
   "execution_count": 96,
   "metadata": {},
   "outputs": [
    {
     "data": {
      "text/html": [
       "<div>\n",
       "<style scoped>\n",
       "    .dataframe tbody tr th:only-of-type {\n",
       "        vertical-align: middle;\n",
       "    }\n",
       "\n",
       "    .dataframe tbody tr th {\n",
       "        vertical-align: top;\n",
       "    }\n",
       "\n",
       "    .dataframe thead th {\n",
       "        text-align: right;\n",
       "    }\n",
       "</style>\n",
       "<table border=\"1\" class=\"dataframe\">\n",
       "  <thead>\n",
       "    <tr style=\"text-align: right;\">\n",
       "      <th></th>\n",
       "      <th>title</th>\n",
       "      <th>text</th>\n",
       "      <th>tags</th>\n",
       "    </tr>\n",
       "  </thead>\n",
       "  <tbody>\n",
       "    <tr>\n",
       "      <td>0</td>\n",
       "      <td>{'глаз', '-летний', 'ровесница-немка', 'бежене...</td>\n",
       "      <td>{'афганец', 'изнасиловать', 'произойти', 'сооб...</td>\n",
       "      <td>6</td>\n",
       "    </tr>\n",
       "    <tr>\n",
       "      <td>3</td>\n",
       "      <td>{'пожар', 'возможный', 'причина', 'южно-сахали...</td>\n",
       "      <td>{'прибыть', 'пресс-служба', 'пожарный', 'место...</td>\n",
       "      <td>6</td>\n",
       "    </tr>\n",
       "    <tr>\n",
       "      <td>6</td>\n",
       "      <td>{'алкогольный', 'россия', 'запретить', 'энерге...</td>\n",
       "      <td>{'алкогольный', 'способ', 'этиловый', 'закон',...</td>\n",
       "      <td>6</td>\n",
       "    </tr>\n",
       "    <tr>\n",
       "      <td>7</td>\n",
       "      <td>{'первый', 'мчс', 'часы', 'наступить', 'отчита...</td>\n",
       "      <td>{'напомнить', 'повышенный', 'зафиксировать', '...</td>\n",
       "      <td>6</td>\n",
       "    </tr>\n",
       "    <tr>\n",
       "      <td>8</td>\n",
       "      <td>{'полиция', 'ночь', 'берлин', 'случай', 'сексу...</td>\n",
       "      <td>{'бросать', 'место', 'закон', 'поступок', 'име...</td>\n",
       "      <td>6</td>\n",
       "    </tr>\n",
       "    <tr>\n",
       "      <td>...</td>\n",
       "      <td>...</td>\n",
       "      <td>...</td>\n",
       "      <td>...</td>\n",
       "    </tr>\n",
       "    <tr>\n",
       "      <td>26181</td>\n",
       "      <td>{'российский', 'обрушиться', 'школьник', 'виде...</td>\n",
       "      <td>{'послать', 'произойти', 'сообщаться', 'попаст...</td>\n",
       "      <td>6</td>\n",
       "    </tr>\n",
       "    <tr>\n",
       "      <td>26201</td>\n",
       "      <td>{'соседский', 'наказать', 'сбросить', 'россиян...</td>\n",
       "      <td>{'сосед', 'обойтись', 'расцениваться', 'свобод...</td>\n",
       "      <td>6</td>\n",
       "    </tr>\n",
       "    <tr>\n",
       "      <td>26205</td>\n",
       "      <td>{'солсбери', 'одеревенеть', 'описать', 'скрипа...</td>\n",
       "      <td>{'лежать', 'пожарный', 'место', 'химзащита', '...</td>\n",
       "      <td>6</td>\n",
       "    </tr>\n",
       "    <tr>\n",
       "      <td>26206</td>\n",
       "      <td>{'план', 'рассказать', 'заминировать', 'севаст...</td>\n",
       "      <td>{'полуостров', 'инструкция', 'россия', 'получа...</td>\n",
       "      <td>6</td>\n",
       "    </tr>\n",
       "    <tr>\n",
       "      <td>26214</td>\n",
       "      <td>{'прокомментировать', 'решение', 'рпц', 'объед...</td>\n",
       "      <td>{'участь', 'поместный', 'отдел', 'приезжий', '...</td>\n",
       "      <td>6</td>\n",
       "    </tr>\n",
       "  </tbody>\n",
       "</table>\n",
       "<p>3754 rows × 3 columns</p>\n",
       "</div>"
      ],
      "text/plain": [
       "                                                   title  \\\n",
       "0      {'глаз', '-летний', 'ровесница-немка', 'бежене...   \n",
       "3      {'пожар', 'возможный', 'причина', 'южно-сахали...   \n",
       "6      {'алкогольный', 'россия', 'запретить', 'энерге...   \n",
       "7      {'первый', 'мчс', 'часы', 'наступить', 'отчита...   \n",
       "8      {'полиция', 'ночь', 'берлин', 'случай', 'сексу...   \n",
       "...                                                  ...   \n",
       "26181  {'российский', 'обрушиться', 'школьник', 'виде...   \n",
       "26201  {'соседский', 'наказать', 'сбросить', 'россиян...   \n",
       "26205  {'солсбери', 'одеревенеть', 'описать', 'скрипа...   \n",
       "26206  {'план', 'рассказать', 'заминировать', 'севаст...   \n",
       "26214  {'прокомментировать', 'решение', 'рпц', 'объед...   \n",
       "\n",
       "                                                    text  tags  \n",
       "0      {'афганец', 'изнасиловать', 'произойти', 'сооб...     6  \n",
       "3      {'прибыть', 'пресс-служба', 'пожарный', 'место...     6  \n",
       "6      {'алкогольный', 'способ', 'этиловый', 'закон',...     6  \n",
       "7      {'напомнить', 'повышенный', 'зафиксировать', '...     6  \n",
       "8      {'бросать', 'место', 'закон', 'поступок', 'име...     6  \n",
       "...                                                  ...   ...  \n",
       "26181  {'послать', 'произойти', 'сообщаться', 'попаст...     6  \n",
       "26201  {'сосед', 'обойтись', 'расцениваться', 'свобод...     6  \n",
       "26205  {'лежать', 'пожарный', 'место', 'химзащита', '...     6  \n",
       "26206  {'полуостров', 'инструкция', 'россия', 'получа...     6  \n",
       "26214  {'участь', 'поместный', 'отдел', 'приезжий', '...     6  \n",
       "\n",
       "[3754 rows x 3 columns]"
      ]
     },
     "execution_count": 96,
     "metadata": {},
     "output_type": "execute_result"
    }
   ],
   "source": [
    "df[df.tags==6]"
   ]
  },
  {
   "cell_type": "code",
   "execution_count": 98,
   "metadata": {},
   "outputs": [
    {
     "data": {
      "text/html": [
       "<div>\n",
       "<style scoped>\n",
       "    .dataframe tbody tr th:only-of-type {\n",
       "        vertical-align: middle;\n",
       "    }\n",
       "\n",
       "    .dataframe tbody tr th {\n",
       "        vertical-align: top;\n",
       "    }\n",
       "\n",
       "    .dataframe thead th {\n",
       "        text-align: right;\n",
       "    }\n",
       "</style>\n",
       "<table border=\"1\" class=\"dataframe\">\n",
       "  <thead>\n",
       "    <tr style=\"text-align: right;\">\n",
       "      <th></th>\n",
       "      <th>title</th>\n",
       "      <th>text</th>\n",
       "      <th>tags</th>\n",
       "    </tr>\n",
       "  </thead>\n",
       "  <tbody>\n",
       "    <tr>\n",
       "      <td>22</td>\n",
       "      <td>{'индия', 'закупить', 'российский', 'бомба', '...</td>\n",
       "      <td>{'называться', 'бомба', 'сообщаться', 'россия'...</td>\n",
       "      <td>7</td>\n",
       "    </tr>\n",
       "    <tr>\n",
       "      <td>50</td>\n",
       "      <td>{'показать', 'новый', 'вдв', 'бронеавтомобиль'...</td>\n",
       "      <td>{'сообщаться', 'россия', 'проходить', 'подход'...</td>\n",
       "      <td>7</td>\n",
       "    </tr>\n",
       "    <tr>\n",
       "      <td>67</td>\n",
       "      <td>{'гром-', 'новый', 'комплекс', 'украинский', '...</td>\n",
       "      <td>{'база', 'промышленный', 'провести', '-страниц...</td>\n",
       "      <td>7</td>\n",
       "    </tr>\n",
       "    <tr>\n",
       "      <td>102</td>\n",
       "      <td>{'самолёт', 'российский', 'получить', 'военный...</td>\n",
       "      <td>{'фронтовой', 'двухместный', 'постсоветский', ...</td>\n",
       "      <td>7</td>\n",
       "    </tr>\n",
       "    <tr>\n",
       "      <td>112</td>\n",
       "      <td>{'воздух', 'новый', 'срок', 'бомбардировщик', ...</td>\n",
       "      <td>{'источник', 'воздух', 'ракетоносец', 'отличие...</td>\n",
       "      <td>7</td>\n",
       "    </tr>\n",
       "    <tr>\n",
       "      <td>...</td>\n",
       "      <td>...</td>\n",
       "      <td>...</td>\n",
       "      <td>...</td>\n",
       "    </tr>\n",
       "    <tr>\n",
       "      <td>26106</td>\n",
       "      <td>{'российский', 'музейный', 'экспонат', 'ту-', ...</td>\n",
       "      <td>{'обратно', 'прибыть', 'ракетоносец', 'сша', '...</td>\n",
       "      <td>7</td>\n",
       "    </tr>\n",
       "    <tr>\n",
       "      <td>26109</td>\n",
       "      <td>{'сша', 'российский', 'провал', 'панцирь', 'об...</td>\n",
       "      <td>{'специалист', 'малый', 'панцирь', 'отечество'...</td>\n",
       "      <td>7</td>\n",
       "    </tr>\n",
       "    <tr>\n",
       "      <td>26116</td>\n",
       "      <td>{'ядерный', 'российский', 'украина', 'неудача'...</td>\n",
       "      <td>{'измерение', 'специалист', 'россия', 'иметь',...</td>\n",
       "      <td>7</td>\n",
       "    </tr>\n",
       "    <tr>\n",
       "      <td>26162</td>\n",
       "      <td>{'российский', 'деньга', 'двигатель', 'россия'...</td>\n",
       "      <td>{'практически', 'малый', 'двигателестроительны...</td>\n",
       "      <td>7</td>\n",
       "    </tr>\n",
       "    <tr>\n",
       "      <td>26182</td>\n",
       "      <td>{'новый', 'якорь', 'академик', 'ковалёв', 'отв...</td>\n",
       "      <td>{'флотский', 'россия', 'левый', 'горин', 'ка-'...</td>\n",
       "      <td>7</td>\n",
       "    </tr>\n",
       "  </tbody>\n",
       "</table>\n",
       "<p>1008 rows × 3 columns</p>\n",
       "</div>"
      ],
      "text/plain": [
       "                                                   title  \\\n",
       "22     {'индия', 'закупить', 'российский', 'бомба', '...   \n",
       "50     {'показать', 'новый', 'вдв', 'бронеавтомобиль'...   \n",
       "67     {'гром-', 'новый', 'комплекс', 'украинский', '...   \n",
       "102    {'самолёт', 'российский', 'получить', 'военный...   \n",
       "112    {'воздух', 'новый', 'срок', 'бомбардировщик', ...   \n",
       "...                                                  ...   \n",
       "26106  {'российский', 'музейный', 'экспонат', 'ту-', ...   \n",
       "26109  {'сша', 'российский', 'провал', 'панцирь', 'об...   \n",
       "26116  {'ядерный', 'российский', 'украина', 'неудача'...   \n",
       "26162  {'российский', 'деньга', 'двигатель', 'россия'...   \n",
       "26182  {'новый', 'якорь', 'академик', 'ковалёв', 'отв...   \n",
       "\n",
       "                                                    text  tags  \n",
       "22     {'называться', 'бомба', 'сообщаться', 'россия'...     7  \n",
       "50     {'сообщаться', 'россия', 'проходить', 'подход'...     7  \n",
       "67     {'база', 'промышленный', 'провести', '-страниц...     7  \n",
       "102    {'фронтовой', 'двухместный', 'постсоветский', ...     7  \n",
       "112    {'источник', 'воздух', 'ракетоносец', 'отличие...     7  \n",
       "...                                                  ...   ...  \n",
       "26106  {'обратно', 'прибыть', 'ракетоносец', 'сша', '...     7  \n",
       "26109  {'специалист', 'малый', 'панцирь', 'отечество'...     7  \n",
       "26116  {'измерение', 'специалист', 'россия', 'иметь',...     7  \n",
       "26162  {'практически', 'малый', 'двигателестроительны...     7  \n",
       "26182  {'флотский', 'россия', 'левый', 'горин', 'ка-'...     7  \n",
       "\n",
       "[1008 rows x 3 columns]"
      ]
     },
     "execution_count": 98,
     "metadata": {},
     "output_type": "execute_result"
    }
   ],
   "source": [
    "df[df.tags==7]"
   ]
  },
  {
   "cell_type": "code",
   "execution_count": null,
   "metadata": {},
   "outputs": [],
   "source": []
  }
 ],
 "metadata": {
  "kernelspec": {
   "display_name": "Python 3",
   "language": "python",
   "name": "python3"
  },
  "language_info": {
   "codemirror_mode": {
    "name": "ipython",
    "version": 3
   },
   "file_extension": ".py",
   "mimetype": "text/x-python",
   "name": "python",
   "nbconvert_exporter": "python",
   "pygments_lexer": "ipython3",
   "version": "3.7.4"
  }
 },
 "nbformat": 4,
 "nbformat_minor": 2
}
